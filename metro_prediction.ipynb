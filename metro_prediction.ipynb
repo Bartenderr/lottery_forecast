{
  "nbformat": 4,
  "nbformat_minor": 0,
  "metadata": {
    "colab": {
      "provenance": [],
      "mount_file_id": "1_JUwWHHVCVi1IUCZKheAXVYCfRa10TiI",
      "authorship_tag": "ABX9TyN6M4zf4Sx6d9V00bKFrAEr",
      "include_colab_link": true
    },
    "kernelspec": {
      "name": "python3",
      "display_name": "Python 3"
    },
    "language_info": {
      "name": "python"
    }
  },
  "cells": [
    {
      "cell_type": "markdown",
      "metadata": {
        "id": "view-in-github",
        "colab_type": "text"
      },
      "source": [
        "<a href=\"https://colab.research.google.com/github/Bartenderr/lotto_prediction/blob/main/metro_prediction.ipynb\" target=\"_parent\"><img src=\"https://colab.research.google.com/assets/colab-badge.svg\" alt=\"Open In Colab\"/></a>"
      ]
    },
    {
      "cell_type": "markdown",
      "source": [
        "IMPORT DEPENDENCIES FOR THIS ML PROJECT "
      ],
      "metadata": {
        "id": "9EqfFNi5jp2S"
      }
    },
    {
      "cell_type": "code",
      "execution_count": 1,
      "metadata": {
        "id": "vJ1-jRGqhpXs"
      },
      "outputs": [],
      "source": [
        "import numpy as np\n",
        "import pandas as pd\n",
        "from sklearn.preprocessing import StandardScaler\n",
        "from keras.models import Sequential\n",
        "from keras.layers import LSTM, Dense, Bidirectional, Dropout\n"
      ]
    },
    {
      "cell_type": "markdown",
      "source": [
        "Load data set into Data frame"
      ],
      "metadata": {
        "id": "uYThvFCFj4QU"
      }
    },
    {
      "cell_type": "code",
      "source": [
        "df = pd.read_csv('/content/drive/MyDrive/metro_full_result.csv')\n",
        "df"
      ],
      "metadata": {
        "id": "wMIkUCw2j3oR",
        "colab": {
          "base_uri": "https://localhost:8080/",
          "height": 424
        },
        "outputId": "703ca737-9e4e-4970-de90-a8195374990b"
      },
      "execution_count": 4,
      "outputs": [
        {
          "output_type": "execute_result",
          "data": {
            "text/plain": [
              "           Date  WN1  WN2  WN3  WN4  WN5  MAN1  MAN2  MAN3  MAN4  MAN5   Time\n",
              "0     1/30/2017   42   56   47   43   51   NaN   NaN   NaN   NaN   NaN  19:45\n",
              "1    02/03/2017   67   83   76   41   46   NaN   NaN   NaN   NaN   NaN  12:45\n",
              "2    02/06/2017    5   12   61   89   28   NaN   NaN   NaN   NaN   NaN  19:45\n",
              "3    02/10/2017    4   75    2   13   24   NaN   NaN   NaN   NaN   NaN  12:45\n",
              "4     2/13/2017   64    8   77   69   22   NaN   NaN   NaN   NaN   NaN  19:45\n",
              "..          ...  ...  ...  ...  ...  ...   ...   ...   ...   ...   ...    ...\n",
              "617  01/09/2023   69   14   58   45   48   NaN   NaN   NaN   NaN   NaN    NaN\n",
              "618  01/13/2023   39   89   51   11   53   NaN   NaN   NaN   NaN   NaN    NaN\n",
              "619  01/16/2023   36   14   46   34   33   NaN   NaN   NaN   NaN   NaN    NaN\n",
              "620  01/20/2023   35   37    5   15   39   NaN   NaN   NaN   NaN   NaN    NaN\n",
              "621  01/23/2023   42   51   54   46   61   NaN   NaN   NaN   NaN   NaN    NaN\n",
              "\n",
              "[622 rows x 12 columns]"
            ],
            "text/html": [
              "\n",
              "  <div id=\"df-45d44679-c0ab-4b79-907c-a69a22a811bd\">\n",
              "    <div class=\"colab-df-container\">\n",
              "      <div>\n",
              "<style scoped>\n",
              "    .dataframe tbody tr th:only-of-type {\n",
              "        vertical-align: middle;\n",
              "    }\n",
              "\n",
              "    .dataframe tbody tr th {\n",
              "        vertical-align: top;\n",
              "    }\n",
              "\n",
              "    .dataframe thead th {\n",
              "        text-align: right;\n",
              "    }\n",
              "</style>\n",
              "<table border=\"1\" class=\"dataframe\">\n",
              "  <thead>\n",
              "    <tr style=\"text-align: right;\">\n",
              "      <th></th>\n",
              "      <th>Date</th>\n",
              "      <th>WN1</th>\n",
              "      <th>WN2</th>\n",
              "      <th>WN3</th>\n",
              "      <th>WN4</th>\n",
              "      <th>WN5</th>\n",
              "      <th>MAN1</th>\n",
              "      <th>MAN2</th>\n",
              "      <th>MAN3</th>\n",
              "      <th>MAN4</th>\n",
              "      <th>MAN5</th>\n",
              "      <th>Time</th>\n",
              "    </tr>\n",
              "  </thead>\n",
              "  <tbody>\n",
              "    <tr>\n",
              "      <th>0</th>\n",
              "      <td>1/30/2017</td>\n",
              "      <td>42</td>\n",
              "      <td>56</td>\n",
              "      <td>47</td>\n",
              "      <td>43</td>\n",
              "      <td>51</td>\n",
              "      <td>NaN</td>\n",
              "      <td>NaN</td>\n",
              "      <td>NaN</td>\n",
              "      <td>NaN</td>\n",
              "      <td>NaN</td>\n",
              "      <td>19:45</td>\n",
              "    </tr>\n",
              "    <tr>\n",
              "      <th>1</th>\n",
              "      <td>02/03/2017</td>\n",
              "      <td>67</td>\n",
              "      <td>83</td>\n",
              "      <td>76</td>\n",
              "      <td>41</td>\n",
              "      <td>46</td>\n",
              "      <td>NaN</td>\n",
              "      <td>NaN</td>\n",
              "      <td>NaN</td>\n",
              "      <td>NaN</td>\n",
              "      <td>NaN</td>\n",
              "      <td>12:45</td>\n",
              "    </tr>\n",
              "    <tr>\n",
              "      <th>2</th>\n",
              "      <td>02/06/2017</td>\n",
              "      <td>5</td>\n",
              "      <td>12</td>\n",
              "      <td>61</td>\n",
              "      <td>89</td>\n",
              "      <td>28</td>\n",
              "      <td>NaN</td>\n",
              "      <td>NaN</td>\n",
              "      <td>NaN</td>\n",
              "      <td>NaN</td>\n",
              "      <td>NaN</td>\n",
              "      <td>19:45</td>\n",
              "    </tr>\n",
              "    <tr>\n",
              "      <th>3</th>\n",
              "      <td>02/10/2017</td>\n",
              "      <td>4</td>\n",
              "      <td>75</td>\n",
              "      <td>2</td>\n",
              "      <td>13</td>\n",
              "      <td>24</td>\n",
              "      <td>NaN</td>\n",
              "      <td>NaN</td>\n",
              "      <td>NaN</td>\n",
              "      <td>NaN</td>\n",
              "      <td>NaN</td>\n",
              "      <td>12:45</td>\n",
              "    </tr>\n",
              "    <tr>\n",
              "      <th>4</th>\n",
              "      <td>2/13/2017</td>\n",
              "      <td>64</td>\n",
              "      <td>8</td>\n",
              "      <td>77</td>\n",
              "      <td>69</td>\n",
              "      <td>22</td>\n",
              "      <td>NaN</td>\n",
              "      <td>NaN</td>\n",
              "      <td>NaN</td>\n",
              "      <td>NaN</td>\n",
              "      <td>NaN</td>\n",
              "      <td>19:45</td>\n",
              "    </tr>\n",
              "    <tr>\n",
              "      <th>...</th>\n",
              "      <td>...</td>\n",
              "      <td>...</td>\n",
              "      <td>...</td>\n",
              "      <td>...</td>\n",
              "      <td>...</td>\n",
              "      <td>...</td>\n",
              "      <td>...</td>\n",
              "      <td>...</td>\n",
              "      <td>...</td>\n",
              "      <td>...</td>\n",
              "      <td>...</td>\n",
              "      <td>...</td>\n",
              "    </tr>\n",
              "    <tr>\n",
              "      <th>617</th>\n",
              "      <td>01/09/2023</td>\n",
              "      <td>69</td>\n",
              "      <td>14</td>\n",
              "      <td>58</td>\n",
              "      <td>45</td>\n",
              "      <td>48</td>\n",
              "      <td>NaN</td>\n",
              "      <td>NaN</td>\n",
              "      <td>NaN</td>\n",
              "      <td>NaN</td>\n",
              "      <td>NaN</td>\n",
              "      <td>NaN</td>\n",
              "    </tr>\n",
              "    <tr>\n",
              "      <th>618</th>\n",
              "      <td>01/13/2023</td>\n",
              "      <td>39</td>\n",
              "      <td>89</td>\n",
              "      <td>51</td>\n",
              "      <td>11</td>\n",
              "      <td>53</td>\n",
              "      <td>NaN</td>\n",
              "      <td>NaN</td>\n",
              "      <td>NaN</td>\n",
              "      <td>NaN</td>\n",
              "      <td>NaN</td>\n",
              "      <td>NaN</td>\n",
              "    </tr>\n",
              "    <tr>\n",
              "      <th>619</th>\n",
              "      <td>01/16/2023</td>\n",
              "      <td>36</td>\n",
              "      <td>14</td>\n",
              "      <td>46</td>\n",
              "      <td>34</td>\n",
              "      <td>33</td>\n",
              "      <td>NaN</td>\n",
              "      <td>NaN</td>\n",
              "      <td>NaN</td>\n",
              "      <td>NaN</td>\n",
              "      <td>NaN</td>\n",
              "      <td>NaN</td>\n",
              "    </tr>\n",
              "    <tr>\n",
              "      <th>620</th>\n",
              "      <td>01/20/2023</td>\n",
              "      <td>35</td>\n",
              "      <td>37</td>\n",
              "      <td>5</td>\n",
              "      <td>15</td>\n",
              "      <td>39</td>\n",
              "      <td>NaN</td>\n",
              "      <td>NaN</td>\n",
              "      <td>NaN</td>\n",
              "      <td>NaN</td>\n",
              "      <td>NaN</td>\n",
              "      <td>NaN</td>\n",
              "    </tr>\n",
              "    <tr>\n",
              "      <th>621</th>\n",
              "      <td>01/23/2023</td>\n",
              "      <td>42</td>\n",
              "      <td>51</td>\n",
              "      <td>54</td>\n",
              "      <td>46</td>\n",
              "      <td>61</td>\n",
              "      <td>NaN</td>\n",
              "      <td>NaN</td>\n",
              "      <td>NaN</td>\n",
              "      <td>NaN</td>\n",
              "      <td>NaN</td>\n",
              "      <td>NaN</td>\n",
              "    </tr>\n",
              "  </tbody>\n",
              "</table>\n",
              "<p>622 rows × 12 columns</p>\n",
              "</div>\n",
              "      <button class=\"colab-df-convert\" onclick=\"convertToInteractive('df-45d44679-c0ab-4b79-907c-a69a22a811bd')\"\n",
              "              title=\"Convert this dataframe to an interactive table.\"\n",
              "              style=\"display:none;\">\n",
              "        \n",
              "  <svg xmlns=\"http://www.w3.org/2000/svg\" height=\"24px\"viewBox=\"0 0 24 24\"\n",
              "       width=\"24px\">\n",
              "    <path d=\"M0 0h24v24H0V0z\" fill=\"none\"/>\n",
              "    <path d=\"M18.56 5.44l.94 2.06.94-2.06 2.06-.94-2.06-.94-.94-2.06-.94 2.06-2.06.94zm-11 1L8.5 8.5l.94-2.06 2.06-.94-2.06-.94L8.5 2.5l-.94 2.06-2.06.94zm10 10l.94 2.06.94-2.06 2.06-.94-2.06-.94-.94-2.06-.94 2.06-2.06.94z\"/><path d=\"M17.41 7.96l-1.37-1.37c-.4-.4-.92-.59-1.43-.59-.52 0-1.04.2-1.43.59L10.3 9.45l-7.72 7.72c-.78.78-.78 2.05 0 2.83L4 21.41c.39.39.9.59 1.41.59.51 0 1.02-.2 1.41-.59l7.78-7.78 2.81-2.81c.8-.78.8-2.07 0-2.86zM5.41 20L4 18.59l7.72-7.72 1.47 1.35L5.41 20z\"/>\n",
              "  </svg>\n",
              "      </button>\n",
              "      \n",
              "  <style>\n",
              "    .colab-df-container {\n",
              "      display:flex;\n",
              "      flex-wrap:wrap;\n",
              "      gap: 12px;\n",
              "    }\n",
              "\n",
              "    .colab-df-convert {\n",
              "      background-color: #E8F0FE;\n",
              "      border: none;\n",
              "      border-radius: 50%;\n",
              "      cursor: pointer;\n",
              "      display: none;\n",
              "      fill: #1967D2;\n",
              "      height: 32px;\n",
              "      padding: 0 0 0 0;\n",
              "      width: 32px;\n",
              "    }\n",
              "\n",
              "    .colab-df-convert:hover {\n",
              "      background-color: #E2EBFA;\n",
              "      box-shadow: 0px 1px 2px rgba(60, 64, 67, 0.3), 0px 1px 3px 1px rgba(60, 64, 67, 0.15);\n",
              "      fill: #174EA6;\n",
              "    }\n",
              "\n",
              "    [theme=dark] .colab-df-convert {\n",
              "      background-color: #3B4455;\n",
              "      fill: #D2E3FC;\n",
              "    }\n",
              "\n",
              "    [theme=dark] .colab-df-convert:hover {\n",
              "      background-color: #434B5C;\n",
              "      box-shadow: 0px 1px 3px 1px rgba(0, 0, 0, 0.15);\n",
              "      filter: drop-shadow(0px 1px 2px rgba(0, 0, 0, 0.3));\n",
              "      fill: #FFFFFF;\n",
              "    }\n",
              "  </style>\n",
              "\n",
              "      <script>\n",
              "        const buttonEl =\n",
              "          document.querySelector('#df-45d44679-c0ab-4b79-907c-a69a22a811bd button.colab-df-convert');\n",
              "        buttonEl.style.display =\n",
              "          google.colab.kernel.accessAllowed ? 'block' : 'none';\n",
              "\n",
              "        async function convertToInteractive(key) {\n",
              "          const element = document.querySelector('#df-45d44679-c0ab-4b79-907c-a69a22a811bd');\n",
              "          const dataTable =\n",
              "            await google.colab.kernel.invokeFunction('convertToInteractive',\n",
              "                                                     [key], {});\n",
              "          if (!dataTable) return;\n",
              "\n",
              "          const docLinkHtml = 'Like what you see? Visit the ' +\n",
              "            '<a target=\"_blank\" href=https://colab.research.google.com/notebooks/data_table.ipynb>data table notebook</a>'\n",
              "            + ' to learn more about interactive tables.';\n",
              "          element.innerHTML = '';\n",
              "          dataTable['output_type'] = 'display_data';\n",
              "          await google.colab.output.renderOutput(dataTable, element);\n",
              "          const docLink = document.createElement('div');\n",
              "          docLink.innerHTML = docLinkHtml;\n",
              "          element.appendChild(docLink);\n",
              "        }\n",
              "      </script>\n",
              "    </div>\n",
              "  </div>\n",
              "  "
            ]
          },
          "metadata": {},
          "execution_count": 4
        }
      ]
    },
    {
      "cell_type": "code",
      "source": [
        "df.drop([\"Date\", \"MAN1\", \"MAN2\", \"MAN3\", \"MAN4\", \"MAN5\", \"Time\"], axis=1, inplace=True)"
      ],
      "metadata": {
        "id": "3io27OCfmQwN"
      },
      "execution_count": 7,
      "outputs": []
    },
    {
      "cell_type": "code",
      "source": [
        "df.head()"
      ],
      "metadata": {
        "id": "lvT95N8Akmy5",
        "colab": {
          "base_uri": "https://localhost:8080/",
          "height": 206
        },
        "outputId": "b911f596-0772-4880-8f12-72c43fea6430"
      },
      "execution_count": 8,
      "outputs": [
        {
          "output_type": "execute_result",
          "data": {
            "text/plain": [
              "   WN1  WN2  WN3  WN4  WN5\n",
              "0   42   56   47   43   51\n",
              "1   67   83   76   41   46\n",
              "2    5   12   61   89   28\n",
              "3    4   75    2   13   24\n",
              "4   64    8   77   69   22"
            ],
            "text/html": [
              "\n",
              "  <div id=\"df-dcbbbdf9-a0a3-4d38-8ce3-eed1459114d8\">\n",
              "    <div class=\"colab-df-container\">\n",
              "      <div>\n",
              "<style scoped>\n",
              "    .dataframe tbody tr th:only-of-type {\n",
              "        vertical-align: middle;\n",
              "    }\n",
              "\n",
              "    .dataframe tbody tr th {\n",
              "        vertical-align: top;\n",
              "    }\n",
              "\n",
              "    .dataframe thead th {\n",
              "        text-align: right;\n",
              "    }\n",
              "</style>\n",
              "<table border=\"1\" class=\"dataframe\">\n",
              "  <thead>\n",
              "    <tr style=\"text-align: right;\">\n",
              "      <th></th>\n",
              "      <th>WN1</th>\n",
              "      <th>WN2</th>\n",
              "      <th>WN3</th>\n",
              "      <th>WN4</th>\n",
              "      <th>WN5</th>\n",
              "    </tr>\n",
              "  </thead>\n",
              "  <tbody>\n",
              "    <tr>\n",
              "      <th>0</th>\n",
              "      <td>42</td>\n",
              "      <td>56</td>\n",
              "      <td>47</td>\n",
              "      <td>43</td>\n",
              "      <td>51</td>\n",
              "    </tr>\n",
              "    <tr>\n",
              "      <th>1</th>\n",
              "      <td>67</td>\n",
              "      <td>83</td>\n",
              "      <td>76</td>\n",
              "      <td>41</td>\n",
              "      <td>46</td>\n",
              "    </tr>\n",
              "    <tr>\n",
              "      <th>2</th>\n",
              "      <td>5</td>\n",
              "      <td>12</td>\n",
              "      <td>61</td>\n",
              "      <td>89</td>\n",
              "      <td>28</td>\n",
              "    </tr>\n",
              "    <tr>\n",
              "      <th>3</th>\n",
              "      <td>4</td>\n",
              "      <td>75</td>\n",
              "      <td>2</td>\n",
              "      <td>13</td>\n",
              "      <td>24</td>\n",
              "    </tr>\n",
              "    <tr>\n",
              "      <th>4</th>\n",
              "      <td>64</td>\n",
              "      <td>8</td>\n",
              "      <td>77</td>\n",
              "      <td>69</td>\n",
              "      <td>22</td>\n",
              "    </tr>\n",
              "  </tbody>\n",
              "</table>\n",
              "</div>\n",
              "      <button class=\"colab-df-convert\" onclick=\"convertToInteractive('df-dcbbbdf9-a0a3-4d38-8ce3-eed1459114d8')\"\n",
              "              title=\"Convert this dataframe to an interactive table.\"\n",
              "              style=\"display:none;\">\n",
              "        \n",
              "  <svg xmlns=\"http://www.w3.org/2000/svg\" height=\"24px\"viewBox=\"0 0 24 24\"\n",
              "       width=\"24px\">\n",
              "    <path d=\"M0 0h24v24H0V0z\" fill=\"none\"/>\n",
              "    <path d=\"M18.56 5.44l.94 2.06.94-2.06 2.06-.94-2.06-.94-.94-2.06-.94 2.06-2.06.94zm-11 1L8.5 8.5l.94-2.06 2.06-.94-2.06-.94L8.5 2.5l-.94 2.06-2.06.94zm10 10l.94 2.06.94-2.06 2.06-.94-2.06-.94-.94-2.06-.94 2.06-2.06.94z\"/><path d=\"M17.41 7.96l-1.37-1.37c-.4-.4-.92-.59-1.43-.59-.52 0-1.04.2-1.43.59L10.3 9.45l-7.72 7.72c-.78.78-.78 2.05 0 2.83L4 21.41c.39.39.9.59 1.41.59.51 0 1.02-.2 1.41-.59l7.78-7.78 2.81-2.81c.8-.78.8-2.07 0-2.86zM5.41 20L4 18.59l7.72-7.72 1.47 1.35L5.41 20z\"/>\n",
              "  </svg>\n",
              "      </button>\n",
              "      \n",
              "  <style>\n",
              "    .colab-df-container {\n",
              "      display:flex;\n",
              "      flex-wrap:wrap;\n",
              "      gap: 12px;\n",
              "    }\n",
              "\n",
              "    .colab-df-convert {\n",
              "      background-color: #E8F0FE;\n",
              "      border: none;\n",
              "      border-radius: 50%;\n",
              "      cursor: pointer;\n",
              "      display: none;\n",
              "      fill: #1967D2;\n",
              "      height: 32px;\n",
              "      padding: 0 0 0 0;\n",
              "      width: 32px;\n",
              "    }\n",
              "\n",
              "    .colab-df-convert:hover {\n",
              "      background-color: #E2EBFA;\n",
              "      box-shadow: 0px 1px 2px rgba(60, 64, 67, 0.3), 0px 1px 3px 1px rgba(60, 64, 67, 0.15);\n",
              "      fill: #174EA6;\n",
              "    }\n",
              "\n",
              "    [theme=dark] .colab-df-convert {\n",
              "      background-color: #3B4455;\n",
              "      fill: #D2E3FC;\n",
              "    }\n",
              "\n",
              "    [theme=dark] .colab-df-convert:hover {\n",
              "      background-color: #434B5C;\n",
              "      box-shadow: 0px 1px 3px 1px rgba(0, 0, 0, 0.15);\n",
              "      filter: drop-shadow(0px 1px 2px rgba(0, 0, 0, 0.3));\n",
              "      fill: #FFFFFF;\n",
              "    }\n",
              "  </style>\n",
              "\n",
              "      <script>\n",
              "        const buttonEl =\n",
              "          document.querySelector('#df-dcbbbdf9-a0a3-4d38-8ce3-eed1459114d8 button.colab-df-convert');\n",
              "        buttonEl.style.display =\n",
              "          google.colab.kernel.accessAllowed ? 'block' : 'none';\n",
              "\n",
              "        async function convertToInteractive(key) {\n",
              "          const element = document.querySelector('#df-dcbbbdf9-a0a3-4d38-8ce3-eed1459114d8');\n",
              "          const dataTable =\n",
              "            await google.colab.kernel.invokeFunction('convertToInteractive',\n",
              "                                                     [key], {});\n",
              "          if (!dataTable) return;\n",
              "\n",
              "          const docLinkHtml = 'Like what you see? Visit the ' +\n",
              "            '<a target=\"_blank\" href=https://colab.research.google.com/notebooks/data_table.ipynb>data table notebook</a>'\n",
              "            + ' to learn more about interactive tables.';\n",
              "          element.innerHTML = '';\n",
              "          dataTable['output_type'] = 'display_data';\n",
              "          await google.colab.output.renderOutput(dataTable, element);\n",
              "          const docLink = document.createElement('div');\n",
              "          docLink.innerHTML = docLinkHtml;\n",
              "          element.appendChild(docLink);\n",
              "        }\n",
              "      </script>\n",
              "    </div>\n",
              "  </div>\n",
              "  "
            ]
          },
          "metadata": {},
          "execution_count": 8
        }
      ]
    },
    {
      "cell_type": "code",
      "source": [
        "df.info()"
      ],
      "metadata": {
        "id": "2QhQ3meskpLf"
      },
      "execution_count": null,
      "outputs": []
    },
    {
      "cell_type": "code",
      "source": [
        "df.tail()"
      ],
      "metadata": {
        "id": "C0gv9XQjkroR"
      },
      "execution_count": null,
      "outputs": []
    },
    {
      "cell_type": "code",
      "source": [
        "df.describe()"
      ],
      "metadata": {
        "id": "kzEqEDbLku0o"
      },
      "execution_count": null,
      "outputs": []
    },
    {
      "cell_type": "code",
      "source": [
        "df.shape"
      ],
      "metadata": {
        "id": "ltoBrBHAky3l"
      },
      "execution_count": null,
      "outputs": []
    },
    {
      "cell_type": "markdown",
      "source": [
        "re-scale data"
      ],
      "metadata": {
        "id": "Wn2yFISBlo62"
      }
    },
    {
      "cell_type": "code",
      "source": [
        "scaler = StandardScaler().fit(df.values)\n",
        "transformed_dataset = scaler.transform(df.values)\n",
        "transformed_df = pd.DataFrame(data=transformed_dataset, index=df.index)"
      ],
      "metadata": {
        "id": "-7EWrOqilHAM"
      },
      "execution_count": null,
      "outputs": []
    },
    {
      "cell_type": "code",
      "source": [
        "#Check_out scaled data \n",
        "transformed_df.head()"
      ],
      "metadata": {
        "id": "gt99KZjemUPm"
      },
      "execution_count": null,
      "outputs": []
    },
    {
      "cell_type": "markdown",
      "source": [
        "Define variables "
      ],
      "metadata": {
        "id": "HeEjhTYwm_cg"
      }
    },
    {
      "cell_type": "code",
      "source": [
        "number_of_rows = df.values.shape[0]\n",
        "number_of_rows"
      ],
      "metadata": {
        "colab": {
          "base_uri": "https://localhost:8080/"
        },
        "id": "HtgrTyeBmjo7",
        "outputId": "838df31a-aeb7-4034-b266-1e847b28480b"
      },
      "execution_count": null,
      "outputs": [
        {
          "output_type": "execute_result",
          "data": {
            "text/plain": [
              "621"
            ]
          },
          "metadata": {},
          "execution_count": 30
        }
      ]
    },
    {
      "cell_type": "code",
      "source": [
        "#AMOUNT OF GAMES WE NEED TO TAKE INTO CONSIDERATION\n",
        "window_length = 7\n",
        "window_length"
      ],
      "metadata": {
        "id": "gqQR0rMxm0id"
      },
      "execution_count": null,
      "outputs": []
    },
    {
      "cell_type": "code",
      "source": [
        "#BALLS COUNT "
      ],
      "metadata": {
        "id": "VjWBw3VEnxez"
      },
      "execution_count": null,
      "outputs": []
    },
    {
      "cell_type": "code",
      "source": [
        "number_of_features = df.values.shape[1]\n",
        "number_of_features"
      ],
      "metadata": {
        "id": "Piw0hquen1nu"
      },
      "execution_count": null,
      "outputs": []
    },
    {
      "cell_type": "markdown",
      "source": [
        "Create X and y for each rowin our scaled data."
      ],
      "metadata": {
        "id": "xqmU9VcxoJdI"
      }
    },
    {
      "cell_type": "code",
      "source": [
        "#it should have the format for keras LTSM model(rows, window size, balls)\n",
        "X = np.empty([number_of_rows - window_length, window_length, number_of_features], dtype=float)\n",
        "\n",
        "y = np.empty([number_of_rows - window_length, number_of_features], dtype=float)\n",
        "\n",
        "for i in range(0, number_of_rows-window_length):\n",
        "  X[i] = transformed_df.iloc[i : i+window_length, 0 : number_of_features]\n",
        "  y[i] = transformed_df.iloc[i+window_length : i+window_length+1, 0 : number_of_features]"
      ],
      "metadata": {
        "id": "Pr0RX4UBoDRa"
      },
      "execution_count": null,
      "outputs": []
    },
    {
      "cell_type": "code",
      "source": [
        "X.shape"
      ],
      "metadata": {
        "colab": {
          "base_uri": "https://localhost:8080/"
        },
        "id": "U9zucF06se3E",
        "outputId": "1f373fd8-78d8-48ef-c2b8-90099ec775fa"
      },
      "execution_count": null,
      "outputs": [
        {
          "output_type": "execute_result",
          "data": {
            "text/plain": [
              "(614, 7, 5)"
            ]
          },
          "metadata": {},
          "execution_count": 39
        }
      ]
    },
    {
      "cell_type": "code",
      "source": [
        "y.shape"
      ],
      "metadata": {
        "colab": {
          "base_uri": "https://localhost:8080/"
        },
        "id": "719Caj6xsheu",
        "outputId": "799ceaf4-df5e-4510-864c-4b5b1a77ebbd"
      },
      "execution_count": null,
      "outputs": [
        {
          "output_type": "execute_result",
          "data": {
            "text/plain": [
              "(614, 5)"
            ]
          },
          "metadata": {},
          "execution_count": 40
        }
      ]
    },
    {
      "cell_type": "code",
      "source": [
        "X[0]"
      ],
      "metadata": {
        "colab": {
          "base_uri": "https://localhost:8080/"
        },
        "id": "FWWUZBInsuWq",
        "outputId": "8d19d88b-2a8d-4abd-8444-52236f0163bb"
      },
      "execution_count": null,
      "outputs": [
        {
          "output_type": "execute_result",
          "data": {
            "text/plain": [
              "array([[-0.09789613,  0.46886285,  0.04151785, -0.12023674,  0.24615676],\n",
              "       [ 0.86463551,  1.51066292,  1.15914867, -0.19829948,  0.05640583],\n",
              "       [-1.52244297, -1.22888542,  0.58106377,  1.67520634, -0.62669752],\n",
              "       [-1.56094423,  1.20198141, -1.69273687, -1.29117788, -0.77849826],\n",
              "       [ 0.74913171, -1.38322617,  1.19768767,  0.89457892, -0.85439864],\n",
              "       [ 0.82613425,  0.70037397, -1.53858089,  0.23104561,  0.701559  ],\n",
              "       [ 0.59512665,  1.16339623, -1.46150291,  0.46523383, -1.53750199]])"
            ]
          },
          "metadata": {},
          "execution_count": 41
        }
      ]
    },
    {
      "cell_type": "code",
      "source": [
        "y[0]"
      ],
      "metadata": {
        "colab": {
          "base_uri": "https://localhost:8080/"
        },
        "id": "BXihitaRs91N",
        "outputId": "c5db500c-a493-4166-ae22-3f433df40000"
      },
      "execution_count": null,
      "outputs": [
        {
          "output_type": "execute_result",
          "data": {
            "text/plain": [
              "array([-1.52244297,  1.47207773,  1.04353169,  0.69942206, -1.27185068])"
            ]
          },
          "metadata": {},
          "execution_count": 42
        }
      ]
    },
    {
      "cell_type": "code",
      "source": [
        "X[1]"
      ],
      "metadata": {
        "colab": {
          "base_uri": "https://localhost:8080/"
        },
        "id": "5dfR2p70tEaP",
        "outputId": "d3a5d3e6-68b0-4017-d4e9-f83a3ed475a4"
      },
      "execution_count": null,
      "outputs": [
        {
          "output_type": "execute_result",
          "data": {
            "text/plain": [
              "array([[ 0.86463551,  1.51066292,  1.15914867, -0.19829948,  0.05640583],\n",
              "       [-1.52244297, -1.22888542,  0.58106377,  1.67520634, -0.62669752],\n",
              "       [-1.56094423,  1.20198141, -1.69273687, -1.29117788, -0.77849826],\n",
              "       [ 0.74913171, -1.38322617,  1.19768767,  0.89457892, -0.85439864],\n",
              "       [ 0.82613425,  0.70037397, -1.53858089,  0.23104561,  0.701559  ],\n",
              "       [ 0.59512665,  1.16339623, -1.46150291,  0.46523383, -1.53750199],\n",
              "       [-1.52244297,  1.47207773,  1.04353169,  0.69942206, -1.27185068]])"
            ]
          },
          "metadata": {},
          "execution_count": 43
        }
      ]
    },
    {
      "cell_type": "code",
      "source": [
        "y[1]"
      ],
      "metadata": {
        "colab": {
          "base_uri": "https://localhost:8080/"
        },
        "id": "YHmxfqU8tOcX",
        "outputId": "91133efe-2543-4685-b402-aac242972ab1"
      },
      "execution_count": null,
      "outputs": [
        {
          "output_type": "execute_result",
          "data": {
            "text/plain": [
              "array([-0.48290879, -1.30605579, -0.65218404,  0.11395149,  1.53646309])"
            ]
          },
          "metadata": {},
          "execution_count": 44
        }
      ]
    },
    {
      "cell_type": "code",
      "source": [
        "#MODELING"
      ],
      "metadata": {
        "id": "l_ulKVSjtRSS"
      },
      "execution_count": null,
      "outputs": []
    },
    {
      "cell_type": "code",
      "source": [
        "model = Sequential()"
      ],
      "metadata": {
        "id": "Jdz-BKY5t-Yn"
      },
      "execution_count": null,
      "outputs": []
    },
    {
      "cell_type": "code",
      "source": [
        "model.add(Bidirectional(LSTM(240, input_shape =(window_length, number_of_features), return_sequences = True)))"
      ],
      "metadata": {
        "id": "utI8jvOmtcUD"
      },
      "execution_count": null,
      "outputs": []
    },
    {
      "cell_type": "code",
      "source": [
        "#dropout layers in order to reduce overfitting\n",
        "model.add(Dropout(0.2))"
      ],
      "metadata": {
        "id": "XuLKd0-zuHKh"
      },
      "execution_count": null,
      "outputs": []
    },
    {
      "cell_type": "code",
      "source": [
        "#Add a Second LSTM layer"
      ],
      "metadata": {
        "id": "4Q0Je6KCuSW2"
      },
      "execution_count": null,
      "outputs": []
    },
    {
      "cell_type": "code",
      "source": [
        "model.add(Bidirectional(LSTM(240, input_shape =(window_length, number_of_features), return_sequences = True)))"
      ],
      "metadata": {
        "id": "qI6h5le8uW9h"
      },
      "execution_count": null,
      "outputs": []
    },
    {
      "cell_type": "code",
      "source": [
        "#dropout again \n",
        "model.add(Dropout(0.2))"
      ],
      "metadata": {
        "id": "6pVmnflOuwbx"
      },
      "execution_count": null,
      "outputs": []
    },
    {
      "cell_type": "code",
      "source": [
        "#Add a third LSTM layer"
      ],
      "metadata": {
        "id": "L-SHIFziuoPj"
      },
      "execution_count": null,
      "outputs": []
    },
    {
      "cell_type": "code",
      "source": [
        "model.add(Bidirectional(LSTM(240, input_shape =(window_length, number_of_features), return_sequences = True)))"
      ],
      "metadata": {
        "id": "a_mnr1-Yusyq"
      },
      "execution_count": null,
      "outputs": []
    },
    {
      "cell_type": "code",
      "source": [
        "#Dropout again thrid time"
      ],
      "metadata": {
        "id": "vfMIT0ZYvGnn"
      },
      "execution_count": null,
      "outputs": []
    },
    {
      "cell_type": "code",
      "source": [
        "model.add(Dropout(0.2))"
      ],
      "metadata": {
        "id": "GzM_l04Gu_69"
      },
      "execution_count": null,
      "outputs": []
    },
    {
      "cell_type": "code",
      "source": [
        "#add a Fourth Layer of LSTM\n",
        "model.add(Bidirectional(LSTM(240, input_shape =(window_length, number_of_features), return_sequences = False)))"
      ],
      "metadata": {
        "id": "Q3H5En1mvDgx"
      },
      "execution_count": null,
      "outputs": []
    },
    {
      "cell_type": "code",
      "source": [
        "#Add Dense Layer \n",
        "model.add(Dense(number_of_features))"
      ],
      "metadata": {
        "id": "yj8PqXFVvaoH"
      },
      "execution_count": null,
      "outputs": []
    },
    {
      "cell_type": "code",
      "source": [
        "#Compile the RNN"
      ],
      "metadata": {
        "id": "8F2h3k_lvotz"
      },
      "execution_count": null,
      "outputs": []
    },
    {
      "cell_type": "code",
      "source": [
        "from tensorflow import keras\n",
        "from tensorflow.keras.optimizers import Adam\n",
        "\n",
        "model.compile(optimizer=Adam(learning_rate=0.0001), loss='mse', metrics=['accuracy'])\n"
      ],
      "metadata": {
        "id": "uG_C4IE7v1IZ"
      },
      "execution_count": null,
      "outputs": []
    },
    {
      "cell_type": "code",
      "source": [
        "model.fit(x=X, y=y, batch_size=100, epochs=300, verbose=2)"
      ],
      "metadata": {
        "colab": {
          "base_uri": "https://localhost:8080/"
        },
        "id": "lpsRCqT_wiKM",
        "outputId": "666c6c6a-41ad-42d8-856b-d664b485de47"
      },
      "execution_count": null,
      "outputs": [
        {
          "output_type": "stream",
          "name": "stdout",
          "text": [
            "Epoch 1/300\n",
            "7/7 - 28s - loss: 0.9996 - accuracy: 0.1922 - 28s/epoch - 4s/step\n",
            "Epoch 2/300\n",
            "7/7 - 5s - loss: 0.9985 - accuracy: 0.2313 - 5s/epoch - 661ms/step\n",
            "Epoch 3/300\n",
            "7/7 - 5s - loss: 0.9975 - accuracy: 0.2068 - 5s/epoch - 669ms/step\n",
            "Epoch 4/300\n",
            "7/7 - 5s - loss: 0.9966 - accuracy: 0.2199 - 5s/epoch - 659ms/step\n",
            "Epoch 5/300\n",
            "7/7 - 5s - loss: 0.9951 - accuracy: 0.2345 - 5s/epoch - 655ms/step\n",
            "Epoch 6/300\n",
            "7/7 - 5s - loss: 0.9931 - accuracy: 0.2231 - 5s/epoch - 669ms/step\n",
            "Epoch 7/300\n",
            "7/7 - 5s - loss: 0.9923 - accuracy: 0.2280 - 5s/epoch - 661ms/step\n",
            "Epoch 8/300\n",
            "7/7 - 5s - loss: 0.9917 - accuracy: 0.2427 - 5s/epoch - 662ms/step\n",
            "Epoch 9/300\n",
            "7/7 - 5s - loss: 0.9912 - accuracy: 0.2410 - 5s/epoch - 657ms/step\n",
            "Epoch 10/300\n",
            "7/7 - 8s - loss: 0.9897 - accuracy: 0.2231 - 8s/epoch - 1s/step\n",
            "Epoch 11/300\n",
            "7/7 - 5s - loss: 0.9892 - accuracy: 0.2378 - 5s/epoch - 672ms/step\n",
            "Epoch 12/300\n",
            "7/7 - 5s - loss: 0.9891 - accuracy: 0.2410 - 5s/epoch - 663ms/step\n",
            "Epoch 13/300\n",
            "7/7 - 5s - loss: 0.9879 - accuracy: 0.2378 - 5s/epoch - 655ms/step\n",
            "Epoch 14/300\n",
            "7/7 - 5s - loss: 0.9871 - accuracy: 0.2362 - 5s/epoch - 667ms/step\n",
            "Epoch 15/300\n",
            "7/7 - 5s - loss: 0.9877 - accuracy: 0.2541 - 5s/epoch - 660ms/step\n",
            "Epoch 16/300\n",
            "7/7 - 5s - loss: 0.9875 - accuracy: 0.2459 - 5s/epoch - 667ms/step\n",
            "Epoch 17/300\n",
            "7/7 - 5s - loss: 0.9869 - accuracy: 0.2590 - 5s/epoch - 665ms/step\n",
            "Epoch 18/300\n",
            "7/7 - 5s - loss: 0.9858 - accuracy: 0.2459 - 5s/epoch - 662ms/step\n",
            "Epoch 19/300\n",
            "7/7 - 5s - loss: 0.9849 - accuracy: 0.2524 - 5s/epoch - 664ms/step\n",
            "Epoch 20/300\n",
            "7/7 - 5s - loss: 0.9844 - accuracy: 0.2410 - 5s/epoch - 665ms/step\n",
            "Epoch 21/300\n",
            "7/7 - 5s - loss: 0.9838 - accuracy: 0.2362 - 5s/epoch - 666ms/step\n",
            "Epoch 22/300\n",
            "7/7 - 7s - loss: 0.9829 - accuracy: 0.2394 - 7s/epoch - 1s/step\n",
            "Epoch 23/300\n",
            "7/7 - 5s - loss: 0.9826 - accuracy: 0.2476 - 5s/epoch - 667ms/step\n",
            "Epoch 24/300\n",
            "7/7 - 5s - loss: 0.9822 - accuracy: 0.2557 - 5s/epoch - 663ms/step\n",
            "Epoch 25/300\n",
            "7/7 - 5s - loss: 0.9823 - accuracy: 0.2459 - 5s/epoch - 674ms/step\n",
            "Epoch 26/300\n",
            "7/7 - 5s - loss: 0.9819 - accuracy: 0.2427 - 5s/epoch - 663ms/step\n",
            "Epoch 27/300\n",
            "7/7 - 5s - loss: 0.9812 - accuracy: 0.2443 - 5s/epoch - 669ms/step\n",
            "Epoch 28/300\n",
            "7/7 - 5s - loss: 0.9810 - accuracy: 0.2313 - 5s/epoch - 662ms/step\n",
            "Epoch 29/300\n",
            "7/7 - 5s - loss: 0.9801 - accuracy: 0.2248 - 5s/epoch - 675ms/step\n",
            "Epoch 30/300\n",
            "7/7 - 5s - loss: 0.9797 - accuracy: 0.2296 - 5s/epoch - 667ms/step\n",
            "Epoch 31/300\n",
            "7/7 - 5s - loss: 0.9789 - accuracy: 0.2378 - 5s/epoch - 672ms/step\n",
            "Epoch 32/300\n",
            "7/7 - 5s - loss: 0.9795 - accuracy: 0.2476 - 5s/epoch - 662ms/step\n",
            "Epoch 33/300\n",
            "7/7 - 5s - loss: 0.9795 - accuracy: 0.2443 - 5s/epoch - 675ms/step\n",
            "Epoch 34/300\n",
            "7/7 - 5s - loss: 0.9783 - accuracy: 0.2427 - 5s/epoch - 669ms/step\n",
            "Epoch 35/300\n",
            "7/7 - 5s - loss: 0.9775 - accuracy: 0.2313 - 5s/epoch - 658ms/step\n",
            "Epoch 36/300\n",
            "7/7 - 5s - loss: 0.9768 - accuracy: 0.2524 - 5s/epoch - 671ms/step\n",
            "Epoch 37/300\n",
            "7/7 - 5s - loss: 0.9758 - accuracy: 0.2394 - 5s/epoch - 660ms/step\n",
            "Epoch 38/300\n",
            "7/7 - 5s - loss: 0.9747 - accuracy: 0.2329 - 5s/epoch - 677ms/step\n",
            "Epoch 39/300\n",
            "7/7 - 5s - loss: 0.9733 - accuracy: 0.2231 - 5s/epoch - 667ms/step\n",
            "Epoch 40/300\n",
            "7/7 - 5s - loss: 0.9710 - accuracy: 0.2492 - 5s/epoch - 673ms/step\n",
            "Epoch 41/300\n",
            "7/7 - 5s - loss: 0.9724 - accuracy: 0.2459 - 5s/epoch - 658ms/step\n",
            "Epoch 42/300\n",
            "7/7 - 5s - loss: 0.9720 - accuracy: 0.2378 - 5s/epoch - 672ms/step\n",
            "Epoch 43/300\n",
            "7/7 - 5s - loss: 0.9698 - accuracy: 0.2427 - 5s/epoch - 666ms/step\n",
            "Epoch 44/300\n",
            "7/7 - 5s - loss: 0.9689 - accuracy: 0.2508 - 5s/epoch - 669ms/step\n",
            "Epoch 45/300\n",
            "7/7 - 5s - loss: 0.9666 - accuracy: 0.2590 - 5s/epoch - 668ms/step\n",
            "Epoch 46/300\n",
            "7/7 - 5s - loss: 0.9683 - accuracy: 0.2622 - 5s/epoch - 666ms/step\n",
            "Epoch 47/300\n",
            "7/7 - 5s - loss: 0.9642 - accuracy: 0.2590 - 5s/epoch - 663ms/step\n",
            "Epoch 48/300\n",
            "7/7 - 5s - loss: 0.9632 - accuracy: 0.2671 - 5s/epoch - 660ms/step\n",
            "Epoch 49/300\n",
            "7/7 - 5s - loss: 0.9623 - accuracy: 0.2655 - 5s/epoch - 668ms/step\n",
            "Epoch 50/300\n",
            "7/7 - 5s - loss: 0.9614 - accuracy: 0.2557 - 5s/epoch - 661ms/step\n",
            "Epoch 51/300\n",
            "7/7 - 5s - loss: 0.9596 - accuracy: 0.2573 - 5s/epoch - 663ms/step\n",
            "Epoch 52/300\n",
            "7/7 - 5s - loss: 0.9601 - accuracy: 0.2573 - 5s/epoch - 657ms/step\n",
            "Epoch 53/300\n",
            "7/7 - 5s - loss: 0.9600 - accuracy: 0.2524 - 5s/epoch - 664ms/step\n",
            "Epoch 54/300\n",
            "7/7 - 5s - loss: 0.9579 - accuracy: 0.2508 - 5s/epoch - 669ms/step\n",
            "Epoch 55/300\n",
            "7/7 - 5s - loss: 0.9557 - accuracy: 0.2524 - 5s/epoch - 674ms/step\n",
            "Epoch 56/300\n",
            "7/7 - 5s - loss: 0.9550 - accuracy: 0.2557 - 5s/epoch - 663ms/step\n",
            "Epoch 57/300\n",
            "7/7 - 5s - loss: 0.9539 - accuracy: 0.2687 - 5s/epoch - 664ms/step\n",
            "Epoch 58/300\n",
            "7/7 - 5s - loss: 0.9521 - accuracy: 0.2704 - 5s/epoch - 663ms/step\n",
            "Epoch 59/300\n",
            "7/7 - 5s - loss: 0.9515 - accuracy: 0.2492 - 5s/epoch - 668ms/step\n",
            "Epoch 60/300\n",
            "7/7 - 5s - loss: 0.9491 - accuracy: 0.2573 - 5s/epoch - 665ms/step\n",
            "Epoch 61/300\n",
            "7/7 - 5s - loss: 0.9480 - accuracy: 0.2590 - 5s/epoch - 661ms/step\n",
            "Epoch 62/300\n",
            "7/7 - 5s - loss: 0.9479 - accuracy: 0.2638 - 5s/epoch - 665ms/step\n",
            "Epoch 63/300\n",
            "7/7 - 5s - loss: 0.9435 - accuracy: 0.2638 - 5s/epoch - 660ms/step\n",
            "Epoch 64/300\n",
            "7/7 - 5s - loss: 0.9440 - accuracy: 0.2638 - 5s/epoch - 662ms/step\n",
            "Epoch 65/300\n",
            "7/7 - 5s - loss: 0.9413 - accuracy: 0.2687 - 5s/epoch - 665ms/step\n",
            "Epoch 66/300\n",
            "7/7 - 5s - loss: 0.9391 - accuracy: 0.2720 - 5s/epoch - 662ms/step\n",
            "Epoch 67/300\n",
            "7/7 - 5s - loss: 0.9393 - accuracy: 0.2720 - 5s/epoch - 674ms/step\n",
            "Epoch 68/300\n",
            "7/7 - 5s - loss: 0.9408 - accuracy: 0.2638 - 5s/epoch - 666ms/step\n",
            "Epoch 69/300\n",
            "7/7 - 5s - loss: 0.9396 - accuracy: 0.2720 - 5s/epoch - 687ms/step\n",
            "Epoch 70/300\n",
            "7/7 - 7s - loss: 0.9348 - accuracy: 0.2622 - 7s/epoch - 1s/step\n",
            "Epoch 71/300\n",
            "7/7 - 5s - loss: 0.9349 - accuracy: 0.2834 - 5s/epoch - 674ms/step\n",
            "Epoch 72/300\n",
            "7/7 - 5s - loss: 0.9336 - accuracy: 0.2671 - 5s/epoch - 663ms/step\n",
            "Epoch 73/300\n",
            "7/7 - 5s - loss: 0.9298 - accuracy: 0.2704 - 5s/epoch - 671ms/step\n",
            "Epoch 74/300\n",
            "7/7 - 5s - loss: 0.9316 - accuracy: 0.2720 - 5s/epoch - 666ms/step\n",
            "Epoch 75/300\n",
            "7/7 - 5s - loss: 0.9244 - accuracy: 0.2834 - 5s/epoch - 668ms/step\n",
            "Epoch 76/300\n",
            "7/7 - 5s - loss: 0.9240 - accuracy: 0.2769 - 5s/epoch - 659ms/step\n",
            "Epoch 77/300\n",
            "7/7 - 5s - loss: 0.9263 - accuracy: 0.2866 - 5s/epoch - 662ms/step\n",
            "Epoch 78/300\n",
            "7/7 - 5s - loss: 0.9194 - accuracy: 0.2752 - 5s/epoch - 669ms/step\n",
            "Epoch 79/300\n",
            "7/7 - 5s - loss: 0.9210 - accuracy: 0.2899 - 5s/epoch - 667ms/step\n",
            "Epoch 80/300\n",
            "7/7 - 5s - loss: 0.9179 - accuracy: 0.2883 - 5s/epoch - 670ms/step\n",
            "Epoch 81/300\n",
            "7/7 - 5s - loss: 0.9191 - accuracy: 0.2606 - 5s/epoch - 672ms/step\n",
            "Epoch 82/300\n",
            "7/7 - 5s - loss: 0.9152 - accuracy: 0.2785 - 5s/epoch - 676ms/step\n",
            "Epoch 83/300\n",
            "7/7 - 5s - loss: 0.9127 - accuracy: 0.2720 - 5s/epoch - 669ms/step\n",
            "Epoch 84/300\n",
            "7/7 - 5s - loss: 0.9079 - accuracy: 0.2638 - 5s/epoch - 674ms/step\n",
            "Epoch 85/300\n",
            "7/7 - 5s - loss: 0.9110 - accuracy: 0.2850 - 5s/epoch - 676ms/step\n",
            "Epoch 86/300\n",
            "7/7 - 5s - loss: 0.9092 - accuracy: 0.2736 - 5s/epoch - 674ms/step\n",
            "Epoch 87/300\n",
            "7/7 - 5s - loss: 0.9034 - accuracy: 0.2785 - 5s/epoch - 680ms/step\n",
            "Epoch 88/300\n",
            "7/7 - 5s - loss: 0.9003 - accuracy: 0.2915 - 5s/epoch - 668ms/step\n",
            "Epoch 89/300\n",
            "7/7 - 5s - loss: 0.8999 - accuracy: 0.2964 - 5s/epoch - 675ms/step\n",
            "Epoch 90/300\n",
            "7/7 - 5s - loss: 0.9009 - accuracy: 0.2932 - 5s/epoch - 671ms/step\n",
            "Epoch 91/300\n",
            "7/7 - 5s - loss: 0.8984 - accuracy: 0.2997 - 5s/epoch - 677ms/step\n",
            "Epoch 92/300\n",
            "7/7 - 5s - loss: 0.8988 - accuracy: 0.3160 - 5s/epoch - 675ms/step\n",
            "Epoch 93/300\n",
            "7/7 - 5s - loss: 0.9014 - accuracy: 0.3046 - 5s/epoch - 672ms/step\n",
            "Epoch 94/300\n",
            "7/7 - 5s - loss: 0.8995 - accuracy: 0.3029 - 5s/epoch - 664ms/step\n",
            "Epoch 95/300\n",
            "7/7 - 5s - loss: 0.8907 - accuracy: 0.2964 - 5s/epoch - 672ms/step\n",
            "Epoch 96/300\n",
            "7/7 - 5s - loss: 0.8915 - accuracy: 0.2980 - 5s/epoch - 663ms/step\n",
            "Epoch 97/300\n",
            "7/7 - 5s - loss: 0.8912 - accuracy: 0.2980 - 5s/epoch - 670ms/step\n",
            "Epoch 98/300\n",
            "7/7 - 5s - loss: 0.8938 - accuracy: 0.3013 - 5s/epoch - 675ms/step\n",
            "Epoch 99/300\n",
            "7/7 - 5s - loss: 0.8824 - accuracy: 0.3029 - 5s/epoch - 671ms/step\n",
            "Epoch 100/300\n",
            "7/7 - 5s - loss: 0.8796 - accuracy: 0.3094 - 5s/epoch - 673ms/step\n",
            "Epoch 101/300\n",
            "7/7 - 5s - loss: 0.8752 - accuracy: 0.3046 - 5s/epoch - 667ms/step\n",
            "Epoch 102/300\n",
            "7/7 - 5s - loss: 0.8810 - accuracy: 0.3160 - 5s/epoch - 671ms/step\n",
            "Epoch 103/300\n",
            "7/7 - 5s - loss: 0.8808 - accuracy: 0.3143 - 5s/epoch - 669ms/step\n",
            "Epoch 104/300\n",
            "7/7 - 5s - loss: 0.8781 - accuracy: 0.3192 - 5s/epoch - 667ms/step\n",
            "Epoch 105/300\n",
            "7/7 - 5s - loss: 0.8753 - accuracy: 0.3062 - 5s/epoch - 668ms/step\n",
            "Epoch 106/300\n",
            "7/7 - 5s - loss: 0.8664 - accuracy: 0.3160 - 5s/epoch - 668ms/step\n",
            "Epoch 107/300\n",
            "7/7 - 5s - loss: 0.8659 - accuracy: 0.3111 - 5s/epoch - 673ms/step\n",
            "Epoch 108/300\n",
            "7/7 - 5s - loss: 0.8653 - accuracy: 0.3127 - 5s/epoch - 675ms/step\n",
            "Epoch 109/300\n",
            "7/7 - 5s - loss: 0.8648 - accuracy: 0.3274 - 5s/epoch - 681ms/step\n",
            "Epoch 110/300\n",
            "7/7 - 5s - loss: 0.8581 - accuracy: 0.3436 - 5s/epoch - 667ms/step\n",
            "Epoch 111/300\n",
            "7/7 - 5s - loss: 0.8582 - accuracy: 0.3257 - 5s/epoch - 671ms/step\n",
            "Epoch 112/300\n",
            "7/7 - 5s - loss: 0.8574 - accuracy: 0.3127 - 5s/epoch - 659ms/step\n",
            "Epoch 113/300\n",
            "7/7 - 5s - loss: 0.8556 - accuracy: 0.3371 - 5s/epoch - 677ms/step\n",
            "Epoch 114/300\n",
            "7/7 - 5s - loss: 0.8536 - accuracy: 0.3339 - 5s/epoch - 672ms/step\n",
            "Epoch 115/300\n",
            "7/7 - 5s - loss: 0.8457 - accuracy: 0.3306 - 5s/epoch - 669ms/step\n",
            "Epoch 116/300\n",
            "7/7 - 5s - loss: 0.8485 - accuracy: 0.3225 - 5s/epoch - 666ms/step\n",
            "Epoch 117/300\n",
            "7/7 - 5s - loss: 0.8511 - accuracy: 0.3241 - 5s/epoch - 662ms/step\n",
            "Epoch 118/300\n",
            "7/7 - 6s - loss: 0.8407 - accuracy: 0.3160 - 6s/epoch - 873ms/step\n",
            "Epoch 119/300\n",
            "7/7 - 6s - loss: 0.8434 - accuracy: 0.3371 - 6s/epoch - 813ms/step\n",
            "Epoch 120/300\n",
            "7/7 - 5s - loss: 0.8388 - accuracy: 0.3388 - 5s/epoch - 675ms/step\n",
            "Epoch 121/300\n",
            "7/7 - 5s - loss: 0.8385 - accuracy: 0.3404 - 5s/epoch - 668ms/step\n",
            "Epoch 122/300\n",
            "7/7 - 5s - loss: 0.8394 - accuracy: 0.3420 - 5s/epoch - 667ms/step\n",
            "Epoch 123/300\n",
            "7/7 - 5s - loss: 0.8300 - accuracy: 0.3485 - 5s/epoch - 668ms/step\n",
            "Epoch 124/300\n",
            "7/7 - 5s - loss: 0.8398 - accuracy: 0.3241 - 5s/epoch - 671ms/step\n",
            "Epoch 125/300\n",
            "7/7 - 5s - loss: 0.8366 - accuracy: 0.3371 - 5s/epoch - 665ms/step\n",
            "Epoch 126/300\n",
            "7/7 - 5s - loss: 0.8264 - accuracy: 0.3436 - 5s/epoch - 667ms/step\n",
            "Epoch 127/300\n",
            "7/7 - 5s - loss: 0.8335 - accuracy: 0.3241 - 5s/epoch - 668ms/step\n",
            "Epoch 128/300\n",
            "7/7 - 5s - loss: 0.8168 - accuracy: 0.3567 - 5s/epoch - 667ms/step\n",
            "Epoch 129/300\n",
            "7/7 - 5s - loss: 0.8144 - accuracy: 0.3502 - 5s/epoch - 662ms/step\n",
            "Epoch 130/300\n",
            "7/7 - 5s - loss: 0.8203 - accuracy: 0.3290 - 5s/epoch - 669ms/step\n",
            "Epoch 131/300\n",
            "7/7 - 5s - loss: 0.8191 - accuracy: 0.3420 - 5s/epoch - 671ms/step\n",
            "Epoch 132/300\n",
            "7/7 - 5s - loss: 0.8184 - accuracy: 0.3567 - 5s/epoch - 665ms/step\n",
            "Epoch 133/300\n",
            "7/7 - 5s - loss: 0.8102 - accuracy: 0.3436 - 5s/epoch - 666ms/step\n",
            "Epoch 134/300\n",
            "7/7 - 5s - loss: 0.8056 - accuracy: 0.3648 - 5s/epoch - 664ms/step\n",
            "Epoch 135/300\n",
            "7/7 - 5s - loss: 0.8029 - accuracy: 0.3599 - 5s/epoch - 668ms/step\n",
            "Epoch 136/300\n",
            "7/7 - 5s - loss: 0.8056 - accuracy: 0.3436 - 5s/epoch - 663ms/step\n",
            "Epoch 137/300\n",
            "7/7 - 5s - loss: 0.8084 - accuracy: 0.3632 - 5s/epoch - 668ms/step\n",
            "Epoch 138/300\n",
            "7/7 - 5s - loss: 0.8007 - accuracy: 0.3648 - 5s/epoch - 667ms/step\n",
            "Epoch 139/300\n",
            "7/7 - 5s - loss: 0.8117 - accuracy: 0.3599 - 5s/epoch - 666ms/step\n",
            "Epoch 140/300\n",
            "7/7 - 5s - loss: 0.8021 - accuracy: 0.3664 - 5s/epoch - 667ms/step\n",
            "Epoch 141/300\n",
            "7/7 - 5s - loss: 0.7931 - accuracy: 0.3648 - 5s/epoch - 663ms/step\n",
            "Epoch 142/300\n",
            "7/7 - 5s - loss: 0.7923 - accuracy: 0.3648 - 5s/epoch - 662ms/step\n",
            "Epoch 143/300\n",
            "7/7 - 5s - loss: 0.7924 - accuracy: 0.3550 - 5s/epoch - 664ms/step\n",
            "Epoch 144/300\n",
            "7/7 - 5s - loss: 0.7872 - accuracy: 0.3844 - 5s/epoch - 667ms/step\n",
            "Epoch 145/300\n",
            "7/7 - 5s - loss: 0.7818 - accuracy: 0.3811 - 5s/epoch - 664ms/step\n",
            "Epoch 146/300\n",
            "7/7 - 5s - loss: 0.7792 - accuracy: 0.3713 - 5s/epoch - 667ms/step\n",
            "Epoch 147/300\n",
            "7/7 - 5s - loss: 0.7820 - accuracy: 0.3681 - 5s/epoch - 665ms/step\n",
            "Epoch 148/300\n",
            "7/7 - 5s - loss: 0.7716 - accuracy: 0.3893 - 5s/epoch - 664ms/step\n",
            "Epoch 149/300\n",
            "7/7 - 5s - loss: 0.7791 - accuracy: 0.3860 - 5s/epoch - 672ms/step\n",
            "Epoch 150/300\n",
            "7/7 - 5s - loss: 0.7805 - accuracy: 0.3648 - 5s/epoch - 675ms/step\n",
            "Epoch 151/300\n",
            "7/7 - 5s - loss: 0.7742 - accuracy: 0.3616 - 5s/epoch - 673ms/step\n",
            "Epoch 152/300\n",
            "7/7 - 5s - loss: 0.7689 - accuracy: 0.3811 - 5s/epoch - 667ms/step\n",
            "Epoch 153/300\n",
            "7/7 - 5s - loss: 0.7730 - accuracy: 0.3779 - 5s/epoch - 667ms/step\n",
            "Epoch 154/300\n",
            "7/7 - 5s - loss: 0.7679 - accuracy: 0.3844 - 5s/epoch - 668ms/step\n",
            "Epoch 155/300\n",
            "7/7 - 5s - loss: 0.7622 - accuracy: 0.3746 - 5s/epoch - 667ms/step\n",
            "Epoch 156/300\n",
            "7/7 - 5s - loss: 0.7755 - accuracy: 0.3502 - 5s/epoch - 668ms/step\n",
            "Epoch 157/300\n",
            "7/7 - 5s - loss: 0.7646 - accuracy: 0.3697 - 5s/epoch - 674ms/step\n",
            "Epoch 158/300\n",
            "7/7 - 5s - loss: 0.7638 - accuracy: 0.3925 - 5s/epoch - 668ms/step\n",
            "Epoch 159/300\n",
            "7/7 - 5s - loss: 0.7613 - accuracy: 0.3795 - 5s/epoch - 668ms/step\n",
            "Epoch 160/300\n",
            "7/7 - 5s - loss: 0.7581 - accuracy: 0.3860 - 5s/epoch - 674ms/step\n",
            "Epoch 161/300\n",
            "7/7 - 5s - loss: 0.7484 - accuracy: 0.3779 - 5s/epoch - 676ms/step\n",
            "Epoch 162/300\n",
            "7/7 - 5s - loss: 0.7465 - accuracy: 0.3795 - 5s/epoch - 678ms/step\n",
            "Epoch 163/300\n",
            "7/7 - 5s - loss: 0.7463 - accuracy: 0.3941 - 5s/epoch - 670ms/step\n",
            "Epoch 164/300\n",
            "7/7 - 5s - loss: 0.7416 - accuracy: 0.4072 - 5s/epoch - 678ms/step\n",
            "Epoch 165/300\n",
            "7/7 - 5s - loss: 0.7513 - accuracy: 0.3844 - 5s/epoch - 664ms/step\n",
            "Epoch 166/300\n",
            "7/7 - 5s - loss: 0.7385 - accuracy: 0.3958 - 5s/epoch - 675ms/step\n",
            "Epoch 167/300\n",
            "7/7 - 5s - loss: 0.7470 - accuracy: 0.4088 - 5s/epoch - 660ms/step\n",
            "Epoch 168/300\n",
            "7/7 - 5s - loss: 0.7284 - accuracy: 0.3958 - 5s/epoch - 672ms/step\n",
            "Epoch 169/300\n",
            "7/7 - 7s - loss: 0.7340 - accuracy: 0.3974 - 7s/epoch - 1s/step\n",
            "Epoch 170/300\n",
            "7/7 - 5s - loss: 0.7339 - accuracy: 0.4218 - 5s/epoch - 673ms/step\n",
            "Epoch 171/300\n",
            "7/7 - 5s - loss: 0.7328 - accuracy: 0.4153 - 5s/epoch - 668ms/step\n",
            "Epoch 172/300\n",
            "7/7 - 5s - loss: 0.7277 - accuracy: 0.4007 - 5s/epoch - 683ms/step\n",
            "Epoch 173/300\n",
            "7/7 - 5s - loss: 0.7266 - accuracy: 0.4153 - 5s/epoch - 680ms/step\n",
            "Epoch 174/300\n",
            "7/7 - 5s - loss: 0.7208 - accuracy: 0.4007 - 5s/epoch - 671ms/step\n",
            "Epoch 175/300\n",
            "7/7 - 5s - loss: 0.7192 - accuracy: 0.3990 - 5s/epoch - 678ms/step\n",
            "Epoch 176/300\n",
            "7/7 - 5s - loss: 0.7222 - accuracy: 0.4121 - 5s/epoch - 666ms/step\n",
            "Epoch 177/300\n",
            "7/7 - 5s - loss: 0.7206 - accuracy: 0.4055 - 5s/epoch - 672ms/step\n",
            "Epoch 178/300\n",
            "7/7 - 5s - loss: 0.7112 - accuracy: 0.4023 - 5s/epoch - 665ms/step\n",
            "Epoch 179/300\n",
            "7/7 - 5s - loss: 0.7076 - accuracy: 0.4055 - 5s/epoch - 661ms/step\n",
            "Epoch 180/300\n",
            "7/7 - 5s - loss: 0.7069 - accuracy: 0.4235 - 5s/epoch - 668ms/step\n",
            "Epoch 181/300\n",
            "7/7 - 5s - loss: 0.7003 - accuracy: 0.4072 - 5s/epoch - 674ms/step\n",
            "Epoch 182/300\n",
            "7/7 - 5s - loss: 0.7057 - accuracy: 0.4169 - 5s/epoch - 665ms/step\n",
            "Epoch 183/300\n",
            "7/7 - 5s - loss: 0.6991 - accuracy: 0.4283 - 5s/epoch - 667ms/step\n",
            "Epoch 184/300\n",
            "7/7 - 5s - loss: 0.7162 - accuracy: 0.4023 - 5s/epoch - 674ms/step\n",
            "Epoch 185/300\n",
            "7/7 - 5s - loss: 0.7069 - accuracy: 0.4365 - 5s/epoch - 664ms/step\n",
            "Epoch 186/300\n",
            "7/7 - 5s - loss: 0.7016 - accuracy: 0.4300 - 5s/epoch - 666ms/step\n",
            "Epoch 187/300\n",
            "7/7 - 5s - loss: 0.6933 - accuracy: 0.3974 - 5s/epoch - 669ms/step\n",
            "Epoch 188/300\n",
            "7/7 - 5s - loss: 0.6842 - accuracy: 0.4153 - 5s/epoch - 675ms/step\n",
            "Epoch 189/300\n",
            "7/7 - 5s - loss: 0.6829 - accuracy: 0.4560 - 5s/epoch - 665ms/step\n",
            "Epoch 190/300\n",
            "7/7 - 5s - loss: 0.6780 - accuracy: 0.4316 - 5s/epoch - 673ms/step\n",
            "Epoch 191/300\n",
            "7/7 - 5s - loss: 0.6823 - accuracy: 0.4186 - 5s/epoch - 670ms/step\n",
            "Epoch 192/300\n",
            "7/7 - 5s - loss: 0.6761 - accuracy: 0.4414 - 5s/epoch - 668ms/step\n",
            "Epoch 193/300\n",
            "7/7 - 5s - loss: 0.6801 - accuracy: 0.4300 - 5s/epoch - 675ms/step\n",
            "Epoch 194/300\n",
            "7/7 - 5s - loss: 0.6678 - accuracy: 0.4381 - 5s/epoch - 678ms/step\n",
            "Epoch 195/300\n",
            "7/7 - 5s - loss: 0.6664 - accuracy: 0.4691 - 5s/epoch - 676ms/step\n",
            "Epoch 196/300\n",
            "7/7 - 5s - loss: 0.6748 - accuracy: 0.4414 - 5s/epoch - 671ms/step\n",
            "Epoch 197/300\n",
            "7/7 - 5s - loss: 0.6645 - accuracy: 0.4381 - 5s/epoch - 678ms/step\n",
            "Epoch 198/300\n",
            "7/7 - 5s - loss: 0.6603 - accuracy: 0.4723 - 5s/epoch - 664ms/step\n",
            "Epoch 199/300\n",
            "7/7 - 5s - loss: 0.6563 - accuracy: 0.4495 - 5s/epoch - 676ms/step\n",
            "Epoch 200/300\n",
            "7/7 - 5s - loss: 0.6523 - accuracy: 0.4544 - 5s/epoch - 669ms/step\n",
            "Epoch 201/300\n",
            "7/7 - 5s - loss: 0.6467 - accuracy: 0.4446 - 5s/epoch - 670ms/step\n",
            "Epoch 202/300\n",
            "7/7 - 5s - loss: 0.6378 - accuracy: 0.4463 - 5s/epoch - 664ms/step\n",
            "Epoch 203/300\n",
            "7/7 - 5s - loss: 0.6445 - accuracy: 0.4593 - 5s/epoch - 667ms/step\n",
            "Epoch 204/300\n",
            "7/7 - 5s - loss: 0.6378 - accuracy: 0.4707 - 5s/epoch - 681ms/step\n",
            "Epoch 205/300\n",
            "7/7 - 5s - loss: 0.6362 - accuracy: 0.4674 - 5s/epoch - 672ms/step\n",
            "Epoch 206/300\n",
            "7/7 - 5s - loss: 0.6358 - accuracy: 0.4707 - 5s/epoch - 674ms/step\n",
            "Epoch 207/300\n",
            "7/7 - 5s - loss: 0.6301 - accuracy: 0.4577 - 5s/epoch - 668ms/step\n",
            "Epoch 208/300\n",
            "7/7 - 5s - loss: 0.6340 - accuracy: 0.4674 - 5s/epoch - 679ms/step\n",
            "Epoch 209/300\n",
            "7/7 - 5s - loss: 0.6322 - accuracy: 0.4560 - 5s/epoch - 670ms/step\n",
            "Epoch 210/300\n",
            "7/7 - 5s - loss: 0.6276 - accuracy: 0.4674 - 5s/epoch - 671ms/step\n",
            "Epoch 211/300\n",
            "7/7 - 5s - loss: 0.6196 - accuracy: 0.4739 - 5s/epoch - 669ms/step\n",
            "Epoch 212/300\n",
            "7/7 - 5s - loss: 0.6107 - accuracy: 0.4902 - 5s/epoch - 667ms/step\n",
            "Epoch 213/300\n",
            "7/7 - 5s - loss: 0.6136 - accuracy: 0.4935 - 5s/epoch - 661ms/step\n",
            "Epoch 214/300\n",
            "7/7 - 5s - loss: 0.6184 - accuracy: 0.4853 - 5s/epoch - 671ms/step\n",
            "Epoch 215/300\n",
            "7/7 - 5s - loss: 0.6081 - accuracy: 0.4772 - 5s/epoch - 674ms/step\n",
            "Epoch 216/300\n",
            "7/7 - 5s - loss: 0.6031 - accuracy: 0.4837 - 5s/epoch - 671ms/step\n",
            "Epoch 217/300\n",
            "7/7 - 5s - loss: 0.5967 - accuracy: 0.4967 - 5s/epoch - 671ms/step\n",
            "Epoch 218/300\n",
            "7/7 - 6s - loss: 0.5938 - accuracy: 0.4984 - 6s/epoch - 924ms/step\n",
            "Epoch 219/300\n",
            "7/7 - 5s - loss: 0.5867 - accuracy: 0.4967 - 5s/epoch - 754ms/step\n",
            "Epoch 220/300\n",
            "7/7 - 5s - loss: 0.5878 - accuracy: 0.5081 - 5s/epoch - 678ms/step\n",
            "Epoch 221/300\n",
            "7/7 - 5s - loss: 0.5779 - accuracy: 0.5000 - 5s/epoch - 684ms/step\n",
            "Epoch 222/300\n",
            "7/7 - 5s - loss: 0.5775 - accuracy: 0.5228 - 5s/epoch - 668ms/step\n",
            "Epoch 223/300\n",
            "7/7 - 5s - loss: 0.5676 - accuracy: 0.5114 - 5s/epoch - 668ms/step\n",
            "Epoch 224/300\n",
            "7/7 - 5s - loss: 0.5668 - accuracy: 0.5065 - 5s/epoch - 666ms/step\n",
            "Epoch 225/300\n",
            "7/7 - 5s - loss: 0.5686 - accuracy: 0.5309 - 5s/epoch - 670ms/step\n",
            "Epoch 226/300\n",
            "7/7 - 5s - loss: 0.5686 - accuracy: 0.5000 - 5s/epoch - 669ms/step\n",
            "Epoch 227/300\n",
            "7/7 - 5s - loss: 0.5696 - accuracy: 0.5098 - 5s/epoch - 668ms/step\n",
            "Epoch 228/300\n",
            "7/7 - 5s - loss: 0.5668 - accuracy: 0.5261 - 5s/epoch - 672ms/step\n",
            "Epoch 229/300\n",
            "7/7 - 5s - loss: 0.5586 - accuracy: 0.5195 - 5s/epoch - 669ms/step\n",
            "Epoch 230/300\n",
            "7/7 - 5s - loss: 0.5458 - accuracy: 0.5244 - 5s/epoch - 676ms/step\n",
            "Epoch 231/300\n",
            "7/7 - 5s - loss: 0.5377 - accuracy: 0.5212 - 5s/epoch - 664ms/step\n",
            "Epoch 232/300\n",
            "7/7 - 5s - loss: 0.5346 - accuracy: 0.5228 - 5s/epoch - 677ms/step\n",
            "Epoch 233/300\n",
            "7/7 - 5s - loss: 0.5356 - accuracy: 0.5635 - 5s/epoch - 670ms/step\n",
            "Epoch 234/300\n",
            "7/7 - 5s - loss: 0.5415 - accuracy: 0.5049 - 5s/epoch - 672ms/step\n",
            "Epoch 235/300\n",
            "7/7 - 5s - loss: 0.5307 - accuracy: 0.5228 - 5s/epoch - 669ms/step\n",
            "Epoch 236/300\n",
            "7/7 - 5s - loss: 0.5245 - accuracy: 0.5195 - 5s/epoch - 675ms/step\n",
            "Epoch 237/300\n",
            "7/7 - 5s - loss: 0.5179 - accuracy: 0.5375 - 5s/epoch - 666ms/step\n",
            "Epoch 238/300\n",
            "7/7 - 5s - loss: 0.5201 - accuracy: 0.5147 - 5s/epoch - 670ms/step\n",
            "Epoch 239/300\n",
            "7/7 - 5s - loss: 0.5117 - accuracy: 0.5407 - 5s/epoch - 673ms/step\n",
            "Epoch 240/300\n",
            "7/7 - 5s - loss: 0.5033 - accuracy: 0.5651 - 5s/epoch - 663ms/step\n",
            "Epoch 241/300\n",
            "7/7 - 5s - loss: 0.5063 - accuracy: 0.5521 - 5s/epoch - 670ms/step\n",
            "Epoch 242/300\n",
            "7/7 - 5s - loss: 0.4959 - accuracy: 0.5440 - 5s/epoch - 672ms/step\n",
            "Epoch 243/300\n",
            "7/7 - 5s - loss: 0.4908 - accuracy: 0.5603 - 5s/epoch - 673ms/step\n",
            "Epoch 244/300\n",
            "7/7 - 5s - loss: 0.4882 - accuracy: 0.5537 - 5s/epoch - 663ms/step\n",
            "Epoch 245/300\n",
            "7/7 - 5s - loss: 0.4796 - accuracy: 0.5668 - 5s/epoch - 674ms/step\n",
            "Epoch 246/300\n",
            "7/7 - 5s - loss: 0.4790 - accuracy: 0.5733 - 5s/epoch - 671ms/step\n",
            "Epoch 247/300\n",
            "7/7 - 5s - loss: 0.4793 - accuracy: 0.5537 - 5s/epoch - 673ms/step\n",
            "Epoch 248/300\n",
            "7/7 - 5s - loss: 0.4803 - accuracy: 0.5668 - 5s/epoch - 666ms/step\n",
            "Epoch 249/300\n",
            "7/7 - 5s - loss: 0.4693 - accuracy: 0.5684 - 5s/epoch - 665ms/step\n",
            "Epoch 250/300\n",
            "7/7 - 5s - loss: 0.4657 - accuracy: 0.5717 - 5s/epoch - 676ms/step\n",
            "Epoch 251/300\n",
            "7/7 - 5s - loss: 0.4556 - accuracy: 0.5782 - 5s/epoch - 668ms/step\n",
            "Epoch 252/300\n",
            "7/7 - 5s - loss: 0.4541 - accuracy: 0.5928 - 5s/epoch - 677ms/step\n",
            "Epoch 253/300\n",
            "7/7 - 5s - loss: 0.4491 - accuracy: 0.5814 - 5s/epoch - 670ms/step\n",
            "Epoch 254/300\n",
            "7/7 - 5s - loss: 0.4457 - accuracy: 0.5863 - 5s/epoch - 668ms/step\n",
            "Epoch 255/300\n",
            "7/7 - 5s - loss: 0.4383 - accuracy: 0.5977 - 5s/epoch - 669ms/step\n",
            "Epoch 256/300\n",
            "7/7 - 5s - loss: 0.4335 - accuracy: 0.5977 - 5s/epoch - 672ms/step\n",
            "Epoch 257/300\n",
            "7/7 - 5s - loss: 0.4308 - accuracy: 0.5961 - 5s/epoch - 666ms/step\n",
            "Epoch 258/300\n",
            "7/7 - 5s - loss: 0.4214 - accuracy: 0.6238 - 5s/epoch - 666ms/step\n",
            "Epoch 259/300\n",
            "7/7 - 5s - loss: 0.4180 - accuracy: 0.6026 - 5s/epoch - 682ms/step\n",
            "Epoch 260/300\n",
            "7/7 - 5s - loss: 0.4055 - accuracy: 0.6091 - 5s/epoch - 667ms/step\n",
            "Epoch 261/300\n",
            "7/7 - 5s - loss: 0.4104 - accuracy: 0.6140 - 5s/epoch - 673ms/step\n",
            "Epoch 262/300\n",
            "7/7 - 5s - loss: 0.4018 - accuracy: 0.6026 - 5s/epoch - 664ms/step\n",
            "Epoch 263/300\n",
            "7/7 - 5s - loss: 0.3971 - accuracy: 0.6270 - 5s/epoch - 672ms/step\n",
            "Epoch 264/300\n",
            "7/7 - 5s - loss: 0.4052 - accuracy: 0.6189 - 5s/epoch - 667ms/step\n",
            "Epoch 265/300\n",
            "7/7 - 5s - loss: 0.3987 - accuracy: 0.6433 - 5s/epoch - 678ms/step\n",
            "Epoch 266/300\n",
            "7/7 - 5s - loss: 0.3973 - accuracy: 0.6026 - 5s/epoch - 662ms/step\n",
            "Epoch 267/300\n",
            "7/7 - 7s - loss: 0.3856 - accuracy: 0.6238 - 7s/epoch - 1s/step\n",
            "Epoch 268/300\n",
            "7/7 - 5s - loss: 0.3721 - accuracy: 0.6303 - 5s/epoch - 665ms/step\n",
            "Epoch 269/300\n",
            "7/7 - 5s - loss: 0.4051 - accuracy: 0.6401 - 5s/epoch - 674ms/step\n",
            "Epoch 270/300\n",
            "7/7 - 5s - loss: 0.3872 - accuracy: 0.6205 - 5s/epoch - 674ms/step\n",
            "Epoch 271/300\n",
            "7/7 - 5s - loss: 0.3788 - accuracy: 0.6352 - 5s/epoch - 671ms/step\n",
            "Epoch 272/300\n",
            "7/7 - 5s - loss: 0.3566 - accuracy: 0.6515 - 5s/epoch - 664ms/step\n",
            "Epoch 273/300\n",
            "7/7 - 5s - loss: 0.3455 - accuracy: 0.6547 - 5s/epoch - 672ms/step\n",
            "Epoch 274/300\n",
            "7/7 - 5s - loss: 0.3638 - accuracy: 0.6401 - 5s/epoch - 665ms/step\n",
            "Epoch 275/300\n",
            "7/7 - 5s - loss: 0.3501 - accuracy: 0.6840 - 5s/epoch - 664ms/step\n",
            "Epoch 276/300\n",
            "7/7 - 5s - loss: 0.3477 - accuracy: 0.6368 - 5s/epoch - 665ms/step\n",
            "Epoch 277/300\n",
            "7/7 - 5s - loss: 0.3351 - accuracy: 0.6596 - 5s/epoch - 660ms/step\n",
            "Epoch 278/300\n",
            "7/7 - 5s - loss: 0.3294 - accuracy: 0.6726 - 5s/epoch - 670ms/step\n",
            "Epoch 279/300\n",
            "7/7 - 5s - loss: 0.3340 - accuracy: 0.6450 - 5s/epoch - 673ms/step\n",
            "Epoch 280/300\n",
            "7/7 - 5s - loss: 0.3210 - accuracy: 0.6401 - 5s/epoch - 662ms/step\n",
            "Epoch 281/300\n",
            "7/7 - 5s - loss: 0.3123 - accuracy: 0.6857 - 5s/epoch - 675ms/step\n",
            "Epoch 282/300\n",
            "7/7 - 5s - loss: 0.3109 - accuracy: 0.6857 - 5s/epoch - 662ms/step\n",
            "Epoch 283/300\n",
            "7/7 - 5s - loss: 0.3066 - accuracy: 0.6710 - 5s/epoch - 679ms/step\n",
            "Epoch 284/300\n",
            "7/7 - 5s - loss: 0.2995 - accuracy: 0.6792 - 5s/epoch - 678ms/step\n",
            "Epoch 285/300\n",
            "7/7 - 5s - loss: 0.3007 - accuracy: 0.6743 - 5s/epoch - 671ms/step\n",
            "Epoch 286/300\n",
            "7/7 - 5s - loss: 0.2959 - accuracy: 0.6792 - 5s/epoch - 659ms/step\n",
            "Epoch 287/300\n",
            "7/7 - 5s - loss: 0.2789 - accuracy: 0.6906 - 5s/epoch - 667ms/step\n",
            "Epoch 288/300\n",
            "7/7 - 5s - loss: 0.2733 - accuracy: 0.6971 - 5s/epoch - 661ms/step\n",
            "Epoch 289/300\n",
            "7/7 - 5s - loss: 0.2716 - accuracy: 0.7068 - 5s/epoch - 659ms/step\n",
            "Epoch 290/300\n",
            "7/7 - 5s - loss: 0.2730 - accuracy: 0.6971 - 5s/epoch - 674ms/step\n",
            "Epoch 291/300\n",
            "7/7 - 5s - loss: 0.2626 - accuracy: 0.7036 - 5s/epoch - 659ms/step\n",
            "Epoch 292/300\n",
            "7/7 - 5s - loss: 0.2509 - accuracy: 0.7264 - 5s/epoch - 670ms/step\n",
            "Epoch 293/300\n",
            "7/7 - 5s - loss: 0.2454 - accuracy: 0.6873 - 5s/epoch - 662ms/step\n",
            "Epoch 294/300\n",
            "7/7 - 5s - loss: 0.2446 - accuracy: 0.7020 - 5s/epoch - 671ms/step\n",
            "Epoch 295/300\n",
            "7/7 - 5s - loss: 0.2460 - accuracy: 0.7101 - 5s/epoch - 664ms/step\n",
            "Epoch 296/300\n",
            "7/7 - 5s - loss: 0.2393 - accuracy: 0.6987 - 5s/epoch - 664ms/step\n",
            "Epoch 297/300\n",
            "7/7 - 5s - loss: 0.2402 - accuracy: 0.7003 - 5s/epoch - 673ms/step\n",
            "Epoch 298/300\n",
            "7/7 - 5s - loss: 0.2396 - accuracy: 0.6938 - 5s/epoch - 666ms/step\n",
            "Epoch 299/300\n",
            "7/7 - 5s - loss: 0.2335 - accuracy: 0.6922 - 5s/epoch - 667ms/step\n",
            "Epoch 300/300\n",
            "7/7 - 5s - loss: 0.2173 - accuracy: 0.7264 - 5s/epoch - 666ms/step\n"
          ]
        },
        {
          "output_type": "execute_result",
          "data": {
            "text/plain": [
              "<keras.callbacks.History at 0x7f537e310820>"
            ]
          },
          "metadata": {},
          "execution_count": 63
        }
      ]
    },
    {
      "cell_type": "code",
      "source": [
        "to_predict = df.tail(8)\n",
        "to_predict"
      ],
      "metadata": {
        "colab": {
          "base_uri": "https://localhost:8080/",
          "height": 300
        },
        "id": "r0wx9gNRw9Jx",
        "outputId": "e5e15bec-a418-4771-c059-c4cbf53eda9c"
      },
      "execution_count": null,
      "outputs": [
        {
          "output_type": "execute_result",
          "data": {
            "text/plain": [
              "      A   B   C   D   E\n",
              "613  71  44  14  63  84\n",
              "614  23  79  73  39  33\n",
              "615  70  44  42  64   1\n",
              "616  47  26  36   7  84\n",
              "617  69  14  58  45  48\n",
              "618  39  89  51  11  53\n",
              "619  36  14  46  34  33\n",
              "620  35  37   5  15  39"
            ],
            "text/html": [
              "\n",
              "  <div id=\"df-aece2b6b-912c-496d-ab29-a1f354716af6\">\n",
              "    <div class=\"colab-df-container\">\n",
              "      <div>\n",
              "<style scoped>\n",
              "    .dataframe tbody tr th:only-of-type {\n",
              "        vertical-align: middle;\n",
              "    }\n",
              "\n",
              "    .dataframe tbody tr th {\n",
              "        vertical-align: top;\n",
              "    }\n",
              "\n",
              "    .dataframe thead th {\n",
              "        text-align: right;\n",
              "    }\n",
              "</style>\n",
              "<table border=\"1\" class=\"dataframe\">\n",
              "  <thead>\n",
              "    <tr style=\"text-align: right;\">\n",
              "      <th></th>\n",
              "      <th>A</th>\n",
              "      <th>B</th>\n",
              "      <th>C</th>\n",
              "      <th>D</th>\n",
              "      <th>E</th>\n",
              "    </tr>\n",
              "  </thead>\n",
              "  <tbody>\n",
              "    <tr>\n",
              "      <th>613</th>\n",
              "      <td>71</td>\n",
              "      <td>44</td>\n",
              "      <td>14</td>\n",
              "      <td>63</td>\n",
              "      <td>84</td>\n",
              "    </tr>\n",
              "    <tr>\n",
              "      <th>614</th>\n",
              "      <td>23</td>\n",
              "      <td>79</td>\n",
              "      <td>73</td>\n",
              "      <td>39</td>\n",
              "      <td>33</td>\n",
              "    </tr>\n",
              "    <tr>\n",
              "      <th>615</th>\n",
              "      <td>70</td>\n",
              "      <td>44</td>\n",
              "      <td>42</td>\n",
              "      <td>64</td>\n",
              "      <td>1</td>\n",
              "    </tr>\n",
              "    <tr>\n",
              "      <th>616</th>\n",
              "      <td>47</td>\n",
              "      <td>26</td>\n",
              "      <td>36</td>\n",
              "      <td>7</td>\n",
              "      <td>84</td>\n",
              "    </tr>\n",
              "    <tr>\n",
              "      <th>617</th>\n",
              "      <td>69</td>\n",
              "      <td>14</td>\n",
              "      <td>58</td>\n",
              "      <td>45</td>\n",
              "      <td>48</td>\n",
              "    </tr>\n",
              "    <tr>\n",
              "      <th>618</th>\n",
              "      <td>39</td>\n",
              "      <td>89</td>\n",
              "      <td>51</td>\n",
              "      <td>11</td>\n",
              "      <td>53</td>\n",
              "    </tr>\n",
              "    <tr>\n",
              "      <th>619</th>\n",
              "      <td>36</td>\n",
              "      <td>14</td>\n",
              "      <td>46</td>\n",
              "      <td>34</td>\n",
              "      <td>33</td>\n",
              "    </tr>\n",
              "    <tr>\n",
              "      <th>620</th>\n",
              "      <td>35</td>\n",
              "      <td>37</td>\n",
              "      <td>5</td>\n",
              "      <td>15</td>\n",
              "      <td>39</td>\n",
              "    </tr>\n",
              "  </tbody>\n",
              "</table>\n",
              "</div>\n",
              "      <button class=\"colab-df-convert\" onclick=\"convertToInteractive('df-aece2b6b-912c-496d-ab29-a1f354716af6')\"\n",
              "              title=\"Convert this dataframe to an interactive table.\"\n",
              "              style=\"display:none;\">\n",
              "        \n",
              "  <svg xmlns=\"http://www.w3.org/2000/svg\" height=\"24px\"viewBox=\"0 0 24 24\"\n",
              "       width=\"24px\">\n",
              "    <path d=\"M0 0h24v24H0V0z\" fill=\"none\"/>\n",
              "    <path d=\"M18.56 5.44l.94 2.06.94-2.06 2.06-.94-2.06-.94-.94-2.06-.94 2.06-2.06.94zm-11 1L8.5 8.5l.94-2.06 2.06-.94-2.06-.94L8.5 2.5l-.94 2.06-2.06.94zm10 10l.94 2.06.94-2.06 2.06-.94-2.06-.94-.94-2.06-.94 2.06-2.06.94z\"/><path d=\"M17.41 7.96l-1.37-1.37c-.4-.4-.92-.59-1.43-.59-.52 0-1.04.2-1.43.59L10.3 9.45l-7.72 7.72c-.78.78-.78 2.05 0 2.83L4 21.41c.39.39.9.59 1.41.59.51 0 1.02-.2 1.41-.59l7.78-7.78 2.81-2.81c.8-.78.8-2.07 0-2.86zM5.41 20L4 18.59l7.72-7.72 1.47 1.35L5.41 20z\"/>\n",
              "  </svg>\n",
              "      </button>\n",
              "      \n",
              "  <style>\n",
              "    .colab-df-container {\n",
              "      display:flex;\n",
              "      flex-wrap:wrap;\n",
              "      gap: 12px;\n",
              "    }\n",
              "\n",
              "    .colab-df-convert {\n",
              "      background-color: #E8F0FE;\n",
              "      border: none;\n",
              "      border-radius: 50%;\n",
              "      cursor: pointer;\n",
              "      display: none;\n",
              "      fill: #1967D2;\n",
              "      height: 32px;\n",
              "      padding: 0 0 0 0;\n",
              "      width: 32px;\n",
              "    }\n",
              "\n",
              "    .colab-df-convert:hover {\n",
              "      background-color: #E2EBFA;\n",
              "      box-shadow: 0px 1px 2px rgba(60, 64, 67, 0.3), 0px 1px 3px 1px rgba(60, 64, 67, 0.15);\n",
              "      fill: #174EA6;\n",
              "    }\n",
              "\n",
              "    [theme=dark] .colab-df-convert {\n",
              "      background-color: #3B4455;\n",
              "      fill: #D2E3FC;\n",
              "    }\n",
              "\n",
              "    [theme=dark] .colab-df-convert:hover {\n",
              "      background-color: #434B5C;\n",
              "      box-shadow: 0px 1px 3px 1px rgba(0, 0, 0, 0.15);\n",
              "      filter: drop-shadow(0px 1px 2px rgba(0, 0, 0, 0.3));\n",
              "      fill: #FFFFFF;\n",
              "    }\n",
              "  </style>\n",
              "\n",
              "      <script>\n",
              "        const buttonEl =\n",
              "          document.querySelector('#df-aece2b6b-912c-496d-ab29-a1f354716af6 button.colab-df-convert');\n",
              "        buttonEl.style.display =\n",
              "          google.colab.kernel.accessAllowed ? 'block' : 'none';\n",
              "\n",
              "        async function convertToInteractive(key) {\n",
              "          const element = document.querySelector('#df-aece2b6b-912c-496d-ab29-a1f354716af6');\n",
              "          const dataTable =\n",
              "            await google.colab.kernel.invokeFunction('convertToInteractive',\n",
              "                                                     [key], {});\n",
              "          if (!dataTable) return;\n",
              "\n",
              "          const docLinkHtml = 'Like what you see? Visit the ' +\n",
              "            '<a target=\"_blank\" href=https://colab.research.google.com/notebooks/data_table.ipynb>data table notebook</a>'\n",
              "            + ' to learn more about interactive tables.';\n",
              "          element.innerHTML = '';\n",
              "          dataTable['output_type'] = 'display_data';\n",
              "          await google.colab.output.renderOutput(dataTable, element);\n",
              "          const docLink = document.createElement('div');\n",
              "          docLink.innerHTML = docLinkHtml;\n",
              "          element.appendChild(docLink);\n",
              "        }\n",
              "      </script>\n",
              "    </div>\n",
              "  </div>\n",
              "  "
            ]
          },
          "metadata": {},
          "execution_count": 65
        }
      ]
    },
    {
      "cell_type": "code",
      "source": [
        "to_predict.drop([to_predict.index[-1]], axis=0, inplace=True)"
      ],
      "metadata": {
        "id": "4CWuMOqj2t0s"
      },
      "execution_count": null,
      "outputs": []
    },
    {
      "cell_type": "code",
      "source": [
        "to_predict\n"
      ],
      "metadata": {
        "colab": {
          "base_uri": "https://localhost:8080/",
          "height": 269
        },
        "id": "_xXBZYos3H_s",
        "outputId": "598eda01-d69b-4466-e01d-c3e6c472fda6"
      },
      "execution_count": null,
      "outputs": [
        {
          "output_type": "execute_result",
          "data": {
            "text/plain": [
              "      A   B   C   D   E\n",
              "613  71  44  14  63  84\n",
              "614  23  79  73  39  33\n",
              "615  70  44  42  64   1\n",
              "616  47  26  36   7  84\n",
              "617  69  14  58  45  48\n",
              "618  39  89  51  11  53\n",
              "619  36  14  46  34  33"
            ],
            "text/html": [
              "\n",
              "  <div id=\"df-aaa031fa-e458-4e77-914a-6e7528f5b2bc\">\n",
              "    <div class=\"colab-df-container\">\n",
              "      <div>\n",
              "<style scoped>\n",
              "    .dataframe tbody tr th:only-of-type {\n",
              "        vertical-align: middle;\n",
              "    }\n",
              "\n",
              "    .dataframe tbody tr th {\n",
              "        vertical-align: top;\n",
              "    }\n",
              "\n",
              "    .dataframe thead th {\n",
              "        text-align: right;\n",
              "    }\n",
              "</style>\n",
              "<table border=\"1\" class=\"dataframe\">\n",
              "  <thead>\n",
              "    <tr style=\"text-align: right;\">\n",
              "      <th></th>\n",
              "      <th>A</th>\n",
              "      <th>B</th>\n",
              "      <th>C</th>\n",
              "      <th>D</th>\n",
              "      <th>E</th>\n",
              "    </tr>\n",
              "  </thead>\n",
              "  <tbody>\n",
              "    <tr>\n",
              "      <th>613</th>\n",
              "      <td>71</td>\n",
              "      <td>44</td>\n",
              "      <td>14</td>\n",
              "      <td>63</td>\n",
              "      <td>84</td>\n",
              "    </tr>\n",
              "    <tr>\n",
              "      <th>614</th>\n",
              "      <td>23</td>\n",
              "      <td>79</td>\n",
              "      <td>73</td>\n",
              "      <td>39</td>\n",
              "      <td>33</td>\n",
              "    </tr>\n",
              "    <tr>\n",
              "      <th>615</th>\n",
              "      <td>70</td>\n",
              "      <td>44</td>\n",
              "      <td>42</td>\n",
              "      <td>64</td>\n",
              "      <td>1</td>\n",
              "    </tr>\n",
              "    <tr>\n",
              "      <th>616</th>\n",
              "      <td>47</td>\n",
              "      <td>26</td>\n",
              "      <td>36</td>\n",
              "      <td>7</td>\n",
              "      <td>84</td>\n",
              "    </tr>\n",
              "    <tr>\n",
              "      <th>617</th>\n",
              "      <td>69</td>\n",
              "      <td>14</td>\n",
              "      <td>58</td>\n",
              "      <td>45</td>\n",
              "      <td>48</td>\n",
              "    </tr>\n",
              "    <tr>\n",
              "      <th>618</th>\n",
              "      <td>39</td>\n",
              "      <td>89</td>\n",
              "      <td>51</td>\n",
              "      <td>11</td>\n",
              "      <td>53</td>\n",
              "    </tr>\n",
              "    <tr>\n",
              "      <th>619</th>\n",
              "      <td>36</td>\n",
              "      <td>14</td>\n",
              "      <td>46</td>\n",
              "      <td>34</td>\n",
              "      <td>33</td>\n",
              "    </tr>\n",
              "  </tbody>\n",
              "</table>\n",
              "</div>\n",
              "      <button class=\"colab-df-convert\" onclick=\"convertToInteractive('df-aaa031fa-e458-4e77-914a-6e7528f5b2bc')\"\n",
              "              title=\"Convert this dataframe to an interactive table.\"\n",
              "              style=\"display:none;\">\n",
              "        \n",
              "  <svg xmlns=\"http://www.w3.org/2000/svg\" height=\"24px\"viewBox=\"0 0 24 24\"\n",
              "       width=\"24px\">\n",
              "    <path d=\"M0 0h24v24H0V0z\" fill=\"none\"/>\n",
              "    <path d=\"M18.56 5.44l.94 2.06.94-2.06 2.06-.94-2.06-.94-.94-2.06-.94 2.06-2.06.94zm-11 1L8.5 8.5l.94-2.06 2.06-.94-2.06-.94L8.5 2.5l-.94 2.06-2.06.94zm10 10l.94 2.06.94-2.06 2.06-.94-2.06-.94-.94-2.06-.94 2.06-2.06.94z\"/><path d=\"M17.41 7.96l-1.37-1.37c-.4-.4-.92-.59-1.43-.59-.52 0-1.04.2-1.43.59L10.3 9.45l-7.72 7.72c-.78.78-.78 2.05 0 2.83L4 21.41c.39.39.9.59 1.41.59.51 0 1.02-.2 1.41-.59l7.78-7.78 2.81-2.81c.8-.78.8-2.07 0-2.86zM5.41 20L4 18.59l7.72-7.72 1.47 1.35L5.41 20z\"/>\n",
              "  </svg>\n",
              "      </button>\n",
              "      \n",
              "  <style>\n",
              "    .colab-df-container {\n",
              "      display:flex;\n",
              "      flex-wrap:wrap;\n",
              "      gap: 12px;\n",
              "    }\n",
              "\n",
              "    .colab-df-convert {\n",
              "      background-color: #E8F0FE;\n",
              "      border: none;\n",
              "      border-radius: 50%;\n",
              "      cursor: pointer;\n",
              "      display: none;\n",
              "      fill: #1967D2;\n",
              "      height: 32px;\n",
              "      padding: 0 0 0 0;\n",
              "      width: 32px;\n",
              "    }\n",
              "\n",
              "    .colab-df-convert:hover {\n",
              "      background-color: #E2EBFA;\n",
              "      box-shadow: 0px 1px 2px rgba(60, 64, 67, 0.3), 0px 1px 3px 1px rgba(60, 64, 67, 0.15);\n",
              "      fill: #174EA6;\n",
              "    }\n",
              "\n",
              "    [theme=dark] .colab-df-convert {\n",
              "      background-color: #3B4455;\n",
              "      fill: #D2E3FC;\n",
              "    }\n",
              "\n",
              "    [theme=dark] .colab-df-convert:hover {\n",
              "      background-color: #434B5C;\n",
              "      box-shadow: 0px 1px 3px 1px rgba(0, 0, 0, 0.15);\n",
              "      filter: drop-shadow(0px 1px 2px rgba(0, 0, 0, 0.3));\n",
              "      fill: #FFFFFF;\n",
              "    }\n",
              "  </style>\n",
              "\n",
              "      <script>\n",
              "        const buttonEl =\n",
              "          document.querySelector('#df-aaa031fa-e458-4e77-914a-6e7528f5b2bc button.colab-df-convert');\n",
              "        buttonEl.style.display =\n",
              "          google.colab.kernel.accessAllowed ? 'block' : 'none';\n",
              "\n",
              "        async function convertToInteractive(key) {\n",
              "          const element = document.querySelector('#df-aaa031fa-e458-4e77-914a-6e7528f5b2bc');\n",
              "          const dataTable =\n",
              "            await google.colab.kernel.invokeFunction('convertToInteractive',\n",
              "                                                     [key], {});\n",
              "          if (!dataTable) return;\n",
              "\n",
              "          const docLinkHtml = 'Like what you see? Visit the ' +\n",
              "            '<a target=\"_blank\" href=https://colab.research.google.com/notebooks/data_table.ipynb>data table notebook</a>'\n",
              "            + ' to learn more about interactive tables.';\n",
              "          element.innerHTML = '';\n",
              "          dataTable['output_type'] = 'display_data';\n",
              "          await google.colab.output.renderOutput(dataTable, element);\n",
              "          const docLink = document.createElement('div');\n",
              "          docLink.innerHTML = docLinkHtml;\n",
              "          element.appendChild(docLink);\n",
              "        }\n",
              "      </script>\n",
              "    </div>\n",
              "  </div>\n",
              "  "
            ]
          },
          "metadata": {},
          "execution_count": 69
        }
      ]
    },
    {
      "cell_type": "code",
      "source": [
        "prediction=df.tail(1)\n",
        "prediction"
      ],
      "metadata": {
        "colab": {
          "base_uri": "https://localhost:8080/",
          "height": 81
        },
        "id": "QvGpu26X3Xno",
        "outputId": "b8af1b2c-a6bd-407c-835c-816bde0f00f4"
      },
      "execution_count": null,
      "outputs": [
        {
          "output_type": "execute_result",
          "data": {
            "text/plain": [
              "      A   B  C   D   E\n",
              "620  35  37  5  15  39"
            ],
            "text/html": [
              "\n",
              "  <div id=\"df-1b07d722-7317-4866-8bd7-1b6b2a7b861e\">\n",
              "    <div class=\"colab-df-container\">\n",
              "      <div>\n",
              "<style scoped>\n",
              "    .dataframe tbody tr th:only-of-type {\n",
              "        vertical-align: middle;\n",
              "    }\n",
              "\n",
              "    .dataframe tbody tr th {\n",
              "        vertical-align: top;\n",
              "    }\n",
              "\n",
              "    .dataframe thead th {\n",
              "        text-align: right;\n",
              "    }\n",
              "</style>\n",
              "<table border=\"1\" class=\"dataframe\">\n",
              "  <thead>\n",
              "    <tr style=\"text-align: right;\">\n",
              "      <th></th>\n",
              "      <th>A</th>\n",
              "      <th>B</th>\n",
              "      <th>C</th>\n",
              "      <th>D</th>\n",
              "      <th>E</th>\n",
              "    </tr>\n",
              "  </thead>\n",
              "  <tbody>\n",
              "    <tr>\n",
              "      <th>620</th>\n",
              "      <td>35</td>\n",
              "      <td>37</td>\n",
              "      <td>5</td>\n",
              "      <td>15</td>\n",
              "      <td>39</td>\n",
              "    </tr>\n",
              "  </tbody>\n",
              "</table>\n",
              "</div>\n",
              "      <button class=\"colab-df-convert\" onclick=\"convertToInteractive('df-1b07d722-7317-4866-8bd7-1b6b2a7b861e')\"\n",
              "              title=\"Convert this dataframe to an interactive table.\"\n",
              "              style=\"display:none;\">\n",
              "        \n",
              "  <svg xmlns=\"http://www.w3.org/2000/svg\" height=\"24px\"viewBox=\"0 0 24 24\"\n",
              "       width=\"24px\">\n",
              "    <path d=\"M0 0h24v24H0V0z\" fill=\"none\"/>\n",
              "    <path d=\"M18.56 5.44l.94 2.06.94-2.06 2.06-.94-2.06-.94-.94-2.06-.94 2.06-2.06.94zm-11 1L8.5 8.5l.94-2.06 2.06-.94-2.06-.94L8.5 2.5l-.94 2.06-2.06.94zm10 10l.94 2.06.94-2.06 2.06-.94-2.06-.94-.94-2.06-.94 2.06-2.06.94z\"/><path d=\"M17.41 7.96l-1.37-1.37c-.4-.4-.92-.59-1.43-.59-.52 0-1.04.2-1.43.59L10.3 9.45l-7.72 7.72c-.78.78-.78 2.05 0 2.83L4 21.41c.39.39.9.59 1.41.59.51 0 1.02-.2 1.41-.59l7.78-7.78 2.81-2.81c.8-.78.8-2.07 0-2.86zM5.41 20L4 18.59l7.72-7.72 1.47 1.35L5.41 20z\"/>\n",
              "  </svg>\n",
              "      </button>\n",
              "      \n",
              "  <style>\n",
              "    .colab-df-container {\n",
              "      display:flex;\n",
              "      flex-wrap:wrap;\n",
              "      gap: 12px;\n",
              "    }\n",
              "\n",
              "    .colab-df-convert {\n",
              "      background-color: #E8F0FE;\n",
              "      border: none;\n",
              "      border-radius: 50%;\n",
              "      cursor: pointer;\n",
              "      display: none;\n",
              "      fill: #1967D2;\n",
              "      height: 32px;\n",
              "      padding: 0 0 0 0;\n",
              "      width: 32px;\n",
              "    }\n",
              "\n",
              "    .colab-df-convert:hover {\n",
              "      background-color: #E2EBFA;\n",
              "      box-shadow: 0px 1px 2px rgba(60, 64, 67, 0.3), 0px 1px 3px 1px rgba(60, 64, 67, 0.15);\n",
              "      fill: #174EA6;\n",
              "    }\n",
              "\n",
              "    [theme=dark] .colab-df-convert {\n",
              "      background-color: #3B4455;\n",
              "      fill: #D2E3FC;\n",
              "    }\n",
              "\n",
              "    [theme=dark] .colab-df-convert:hover {\n",
              "      background-color: #434B5C;\n",
              "      box-shadow: 0px 1px 3px 1px rgba(0, 0, 0, 0.15);\n",
              "      filter: drop-shadow(0px 1px 2px rgba(0, 0, 0, 0.3));\n",
              "      fill: #FFFFFF;\n",
              "    }\n",
              "  </style>\n",
              "\n",
              "      <script>\n",
              "        const buttonEl =\n",
              "          document.querySelector('#df-1b07d722-7317-4866-8bd7-1b6b2a7b861e button.colab-df-convert');\n",
              "        buttonEl.style.display =\n",
              "          google.colab.kernel.accessAllowed ? 'block' : 'none';\n",
              "\n",
              "        async function convertToInteractive(key) {\n",
              "          const element = document.querySelector('#df-1b07d722-7317-4866-8bd7-1b6b2a7b861e');\n",
              "          const dataTable =\n",
              "            await google.colab.kernel.invokeFunction('convertToInteractive',\n",
              "                                                     [key], {});\n",
              "          if (!dataTable) return;\n",
              "\n",
              "          const docLinkHtml = 'Like what you see? Visit the ' +\n",
              "            '<a target=\"_blank\" href=https://colab.research.google.com/notebooks/data_table.ipynb>data table notebook</a>'\n",
              "            + ' to learn more about interactive tables.';\n",
              "          element.innerHTML = '';\n",
              "          dataTable['output_type'] = 'display_data';\n",
              "          await google.colab.output.renderOutput(dataTable, element);\n",
              "          const docLink = document.createElement('div');\n",
              "          docLink.innerHTML = docLinkHtml;\n",
              "          element.appendChild(docLink);\n",
              "        }\n",
              "      </script>\n",
              "    </div>\n",
              "  </div>\n",
              "  "
            ]
          },
          "metadata": {},
          "execution_count": 71
        }
      ]
    },
    {
      "cell_type": "code",
      "source": [
        "to_predict = np.array(to_predict)\n",
        "to_predict"
      ],
      "metadata": {
        "colab": {
          "base_uri": "https://localhost:8080/"
        },
        "id": "VsUlbKg43mSO",
        "outputId": "ea0222f3-aad4-4c9a-d7ab-112572aae081"
      },
      "execution_count": null,
      "outputs": [
        {
          "output_type": "execute_result",
          "data": {
            "text/plain": [
              "array([[71, 44, 14, 63, 84],\n",
              "       [23, 79, 73, 39, 33],\n",
              "       [70, 44, 42, 64,  1],\n",
              "       [47, 26, 36,  7, 84],\n",
              "       [69, 14, 58, 45, 48],\n",
              "       [39, 89, 51, 11, 53],\n",
              "       [36, 14, 46, 34, 33]])"
            ]
          },
          "metadata": {},
          "execution_count": 72
        }
      ]
    },
    {
      "cell_type": "code",
      "source": [
        "scaled_to_predict = scaler.transform(to_predict)\n",
        "scaled_to_predict"
      ],
      "metadata": {
        "colab": {
          "base_uri": "https://localhost:8080/"
        },
        "id": "jNsT6kHi39H1",
        "outputId": "7f0cf2c1-3826-4793-cb95-63450c775d09"
      },
      "execution_count": null,
      "outputs": [
        {
          "output_type": "execute_result",
          "data": {
            "text/plain": [
              "array([[ 1.01864057,  0.00584059, -1.23026894,  0.66039069,  1.49851291],\n",
              "       [-0.82942018,  1.35632216,  1.04353169, -0.27636222, -0.43694659],\n",
              "       [ 0.98013931,  0.00584059, -0.15117712,  0.69942206, -1.65135255],\n",
              "       [ 0.0946102 , -0.68869279, -0.38241108, -1.5253661 ,  1.49851291],\n",
              "       [ 0.94163804, -1.15171504,  0.46544679, -0.04217399,  0.1323062 ],\n",
              "       [-0.21339993,  1.74217404,  0.19567383, -1.36924062,  0.32205714],\n",
              "       [-0.32890373, -1.15171504,  0.00297886, -0.47151908, -0.43694659]])"
            ]
          },
          "metadata": {},
          "execution_count": 73
        }
      ]
    },
    {
      "cell_type": "code",
      "source": [
        "y_pred = model.predict(np.array([scaled_to_predict]))\n",
        "\n",
        "print('The predicted numbers in the last lottery game are:', scaler.inverse_transform(y_pred).astype(int)[0])"
      ],
      "metadata": {
        "colab": {
          "base_uri": "https://localhost:8080/"
        },
        "id": "E1wihi7O4KLE",
        "outputId": "590edb99-b2b7-49d7-eccd-e75f83614e67"
      },
      "execution_count": null,
      "outputs": [
        {
          "output_type": "stream",
          "name": "stdout",
          "text": [
            "1/1 [==============================] - 0s 32ms/step\n",
            "The predicted numbers in the last lottery game are: [37 28  2 26 54]\n"
          ]
        }
      ]
    },
    {
      "cell_type": "code",
      "source": [
        "prediction = np.array(prediction)\n",
        "\n",
        "print('The actual numbers int the last lottery game were:', prediction[0])"
      ],
      "metadata": {
        "colab": {
          "base_uri": "https://localhost:8080/"
        },
        "id": "tyO7xLuU4Zsf",
        "outputId": "81d8ff91-83dd-4d3d-a347-233840d199f4"
      },
      "execution_count": null,
      "outputs": [
        {
          "output_type": "stream",
          "name": "stdout",
          "text": [
            "The actual numbers int the last lottery game were: [35 37  5 15 39]\n"
          ]
        }
      ]
    },
    {
      "cell_type": "code",
      "source": [
        "##change data set next time\n",
        "##see what the other guy tuned\n",
        "##play with the epochs try 519"
      ],
      "metadata": {
        "id": "i0YyzOhM5qQ9"
      },
      "execution_count": null,
      "outputs": []
    },
    {
      "cell_type": "code",
      "source": [
        "##increanse the window_length"
      ],
      "metadata": {
        "id": "Zv-KkUKI6g4H"
      },
      "execution_count": null,
      "outputs": []
    },
    {
      "cell_type": "code",
      "source": [],
      "metadata": {
        "id": "x6ntMVhG68Vl"
      },
      "execution_count": null,
      "outputs": []
    }
  ]
}